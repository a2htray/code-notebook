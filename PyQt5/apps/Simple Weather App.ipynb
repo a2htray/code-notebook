{
 "cells": [
  {
   "cell_type": "code",
   "execution_count": 2,
   "outputs": [],
   "source": [
    "import re"
   ],
   "metadata": {
    "collapsed": false,
    "pycharm": {
     "name": "#%%\n"
    }
   }
  },
  {
   "cell_type": "code",
   "execution_count": 3,
   "outputs": [],
   "source": [
    "REGEX_WEEK_DAY = re.compile('^([\\u4e00-\\u9fa5]{3})(\\d{2}/\\d{2})$')\n",
    "testStrings = ['星期五11/04', '星期六11/05']"
   ],
   "metadata": {
    "collapsed": false,
    "pycharm": {
     "name": "#%%\n"
    }
   }
  },
  {
   "cell_type": "code",
   "execution_count": 8,
   "outputs": [
    {
     "name": "stdout",
     "output_type": "stream",
     "text": [
      "('星期五', '11/04')\n",
      "('星期六', '11/05')\n"
     ]
    },
    {
     "ename": "ValueError",
     "evalue": "the string of week and day does not match the pattern",
     "output_type": "error",
     "traceback": [
      "\u001B[1;31m---------------------------------------------------------------------------\u001B[0m",
      "\u001B[1;31mValueError\u001B[0m                                Traceback (most recent call last)",
      "\u001B[1;32m~\\AppData\\Local\\Temp\\ipykernel_7484\\182373648.py\u001B[0m in \u001B[0;36m<module>\u001B[1;34m\u001B[0m\n\u001B[0;32m     12\u001B[0m     \u001B[0mprint\u001B[0m\u001B[1;33m(\u001B[0m\u001B[0mextractWeekAndDay\u001B[0m\u001B[1;33m(\u001B[0m\u001B[0mtextString\u001B[0m\u001B[1;33m)\u001B[0m\u001B[1;33m)\u001B[0m\u001B[1;33m\u001B[0m\u001B[1;33m\u001B[0m\u001B[0m\n\u001B[0;32m     13\u001B[0m \u001B[1;33m\u001B[0m\u001B[0m\n\u001B[1;32m---> 14\u001B[1;33m \u001B[0mextractWeekAndDay\u001B[0m\u001B[1;33m(\u001B[0m\u001B[1;34m'aaa'\u001B[0m\u001B[1;33m)\u001B[0m\u001B[1;33m\u001B[0m\u001B[1;33m\u001B[0m\u001B[0m\n\u001B[0m",
      "\u001B[1;32m~\\AppData\\Local\\Temp\\ipykernel_7484\\182373648.py\u001B[0m in \u001B[0;36mextractWeekAndDay\u001B[1;34m(wdString)\u001B[0m\n\u001B[0;32m      2\u001B[0m     \u001B[0mmatch\u001B[0m \u001B[1;33m=\u001B[0m \u001B[0mREGEX_WEEK_DAY\u001B[0m\u001B[1;33m.\u001B[0m\u001B[0mmatch\u001B[0m\u001B[1;33m(\u001B[0m\u001B[0mwdString\u001B[0m\u001B[1;33m)\u001B[0m\u001B[1;33m\u001B[0m\u001B[1;33m\u001B[0m\u001B[0m\n\u001B[0;32m      3\u001B[0m     \u001B[1;32mif\u001B[0m \u001B[1;32mnot\u001B[0m \u001B[0mmatch\u001B[0m\u001B[1;33m:\u001B[0m\u001B[1;33m\u001B[0m\u001B[1;33m\u001B[0m\u001B[0m\n\u001B[1;32m----> 4\u001B[1;33m         \u001B[1;32mraise\u001B[0m \u001B[0mValueError\u001B[0m\u001B[1;33m(\u001B[0m\u001B[1;34m'the string of week and day does not match the pattern'\u001B[0m\u001B[1;33m)\u001B[0m\u001B[1;33m\u001B[0m\u001B[1;33m\u001B[0m\u001B[0m\n\u001B[0m\u001B[0;32m      5\u001B[0m \u001B[1;33m\u001B[0m\u001B[0m\n\u001B[0;32m      6\u001B[0m     \u001B[1;32mreturn\u001B[0m \u001B[0mREGEX_WEEK_DAY\u001B[0m\u001B[1;33m.\u001B[0m\u001B[0mfindall\u001B[0m\u001B[1;33m(\u001B[0m\u001B[0mwdString\u001B[0m\u001B[1;33m)\u001B[0m\u001B[1;33m[\u001B[0m\u001B[1;36m0\u001B[0m\u001B[1;33m]\u001B[0m\u001B[1;33m\u001B[0m\u001B[1;33m\u001B[0m\u001B[0m\n",
      "\u001B[1;31mValueError\u001B[0m: the string of week and day does not match the pattern"
     ]
    }
   ],
   "source": [
    "def extractWeekAndDay(wdString: str):\n",
    "    \"\"\"提取'周'和'日'信息\n",
    "    >>> extractWeekAndDay('星期五11/04')\n",
    "    ('星期五', '11/04')\n",
    "    >>> extractWeekAndDay('not_match_pattern')\n",
    "    ValueError: the string of week and day does not match the pattern\n",
    "    \"\"\"\n",
    "    match = REGEX_WEEK_DAY.match(wdString)\n",
    "    if not match:\n",
    "        raise ValueError('the string of week and day does not match the pattern')\n",
    "\n",
    "    return REGEX_WEEK_DAY.findall(wdString)[0]\n",
    "\n",
    "for textString in testStrings:\n",
    "    print(extractWeekAndDay(textString))\n",
    "\n",
    "extractWeekAndDay('aaa')"
   ],
   "metadata": {
    "collapsed": false,
    "pycharm": {
     "name": "#%%\n"
    }
   }
  },
  {
   "cell_type": "code",
   "execution_count": 43,
   "outputs": [
    {
     "name": "stdout",
     "output_type": "stream",
     "text": [
      "星期一 11/07 25 10\n",
      "星期二 11/08 25 13\n",
      "星期三 11/09 26 13\n",
      "星期四 11/10 28 16\n",
      "星期五 11/11 28 16\n",
      "星期六 11/12 23 12\n",
      "星期日 11/13 13 7\n"
     ]
    },
    {
     "data": {
      "text/plain": "  Week    Day High Temperature Low Temperature\n0  星期一  11/07               25              10\n1  星期二  11/08               25              13\n2  星期三  11/09               26              13\n3  星期四  11/10               28              16\n4  星期五  11/11               28              16\n5  星期六  11/12               23              12\n6  星期日  11/13               13               7",
      "text/html": "<div>\n<style scoped>\n    .dataframe tbody tr th:only-of-type {\n        vertical-align: middle;\n    }\n\n    .dataframe tbody tr th {\n        vertical-align: top;\n    }\n\n    .dataframe thead th {\n        text-align: right;\n    }\n</style>\n<table border=\"1\" class=\"dataframe\">\n  <thead>\n    <tr style=\"text-align: right;\">\n      <th></th>\n      <th>Week</th>\n      <th>Day</th>\n      <th>High Temperature</th>\n      <th>Low Temperature</th>\n    </tr>\n  </thead>\n  <tbody>\n    <tr>\n      <th>0</th>\n      <td>星期一</td>\n      <td>11/07</td>\n      <td>25</td>\n      <td>10</td>\n    </tr>\n    <tr>\n      <th>1</th>\n      <td>星期二</td>\n      <td>11/08</td>\n      <td>25</td>\n      <td>13</td>\n    </tr>\n    <tr>\n      <th>2</th>\n      <td>星期三</td>\n      <td>11/09</td>\n      <td>26</td>\n      <td>13</td>\n    </tr>\n    <tr>\n      <th>3</th>\n      <td>星期四</td>\n      <td>11/10</td>\n      <td>28</td>\n      <td>16</td>\n    </tr>\n    <tr>\n      <th>4</th>\n      <td>星期五</td>\n      <td>11/11</td>\n      <td>28</td>\n      <td>16</td>\n    </tr>\n    <tr>\n      <th>5</th>\n      <td>星期六</td>\n      <td>11/12</td>\n      <td>23</td>\n      <td>12</td>\n    </tr>\n    <tr>\n      <th>6</th>\n      <td>星期日</td>\n      <td>11/13</td>\n      <td>13</td>\n      <td>7</td>\n    </tr>\n  </tbody>\n</table>\n</div>"
     },
     "execution_count": 43,
     "metadata": {},
     "output_type": "execute_result"
    }
   ],
   "source": [
    "import requests\n",
    "import pandas as pd\n",
    "from bs4 import BeautifulSoup\n",
    "\n",
    "\n",
    "def getWeatherData(cityCode: int):\n",
    "    \"\"\"根据城市代码获取天气数据，返回一个 DataFrame\n",
    "    >>> getWeatherData('57494')\n",
    "    \"\"\"\n",
    "    df = pd.DataFrame(columns=['Week', 'Day', 'High Temperature', 'Low Temperature'])\n",
    "    url = 'http://weather.cma.cn/web/weather/{0}.html'.format(cityCode)\n",
    "    htmlContent = requests.get(url).content.decode('utf-8')\n",
    "\n",
    "    soup = BeautifulSoup(htmlContent, 'html.parser')\n",
    "    eleDays = soup.select('.day')\n",
    "\n",
    "    for i, eleDay in enumerate(eleDays):\n",
    "        eleDayItems = eleDay.select('.day-item')\n",
    "        week, day = extractWeekAndDay(eleDayItems[0].getText().replace(' ', '').replace('\\n', ''))\n",
    "        highTemperature = eleDayItems[5].select('.high')[0].getText().strip().replace('℃', '')\n",
    "        lowTemperature = eleDayItems[5].select('.low')[0].getText().strip().replace('℃', '')\n",
    "\n",
    "        print(week, day, highTemperature, lowTemperature)\n",
    "        df.loc[i] = [week, day, highTemperature, lowTemperature]\n",
    "\n",
    "    return df\n",
    "\n",
    "\n",
    "getWeatherData(57494)"
   ],
   "metadata": {
    "collapsed": false,
    "pycharm": {
     "name": "#%%\n"
    }
   }
  },
  {
   "cell_type": "code",
   "execution_count": null,
   "outputs": [],
   "source": [],
   "metadata": {
    "collapsed": false,
    "pycharm": {
     "name": "#%%\n"
    }
   }
  }
 ],
 "metadata": {
  "kernelspec": {
   "display_name": "Python 3",
   "language": "python",
   "name": "python3"
  },
  "language_info": {
   "codemirror_mode": {
    "name": "ipython",
    "version": 2
   },
   "file_extension": ".py",
   "mimetype": "text/x-python",
   "name": "python",
   "nbconvert_exporter": "python",
   "pygments_lexer": "ipython2",
   "version": "2.7.6"
  }
 },
 "nbformat": 4,
 "nbformat_minor": 0
}