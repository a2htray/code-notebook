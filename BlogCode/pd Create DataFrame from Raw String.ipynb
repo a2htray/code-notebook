{
 "cells": [
  {
   "cell_type": "code",
   "execution_count": 1,
   "outputs": [],
   "source": [
    "import pandas as pd\n",
    "from io import StringIO"
   ],
   "metadata": {
    "collapsed": false,
    "pycharm": {
     "name": "#%%\n"
    }
   }
  },
  {
   "cell_type": "code",
   "execution_count": 2,
   "outputs": [
    {
     "data": {
      "text/plain": "'人口基本情况,1982年,1990年,2000年,2020年,2021年\\n0-14岁人口,34156,31670,29024,25277,24721\\n15-64岁人口,62517,76260,88847,96871,96481\\n65岁以上人口,4981,6403,8872,19064,20059'"
     },
     "execution_count": 2,
     "metadata": {},
     "output_type": "execute_result"
    }
   ],
   "source": [
    "data = '''人口基本情况,1982年,1990年,2000年,2020年,2021年\n",
    "0-14岁人口,34156,31670,29024,25277,24721\n",
    "15-64岁人口,62517,76260,88847,96871,96481\n",
    "65岁以上人口,4981,6403,8872,19064,20059'''\n",
    "data"
   ],
   "metadata": {
    "collapsed": false,
    "pycharm": {
     "name": "#%%\n"
    }
   }
  },
  {
   "cell_type": "code",
   "execution_count": 3,
   "outputs": [
    {
     "data": {
      "text/plain": "          1982年  1990年  2000年  2020年  2021年\n人口基本情况                                     \n0-14岁人口   34156  31670  29024  25277  24721\n15-64岁人口  62517  76260  88847  96871  96481\n65岁以上人口    4981   6403   8872  19064  20059",
      "text/html": "<div>\n<style scoped>\n    .dataframe tbody tr th:only-of-type {\n        vertical-align: middle;\n    }\n\n    .dataframe tbody tr th {\n        vertical-align: top;\n    }\n\n    .dataframe thead th {\n        text-align: right;\n    }\n</style>\n<table border=\"1\" class=\"dataframe\">\n  <thead>\n    <tr style=\"text-align: right;\">\n      <th></th>\n      <th>1982年</th>\n      <th>1990年</th>\n      <th>2000年</th>\n      <th>2020年</th>\n      <th>2021年</th>\n    </tr>\n    <tr>\n      <th>人口基本情况</th>\n      <th></th>\n      <th></th>\n      <th></th>\n      <th></th>\n      <th></th>\n    </tr>\n  </thead>\n  <tbody>\n    <tr>\n      <th>0-14岁人口</th>\n      <td>34156</td>\n      <td>31670</td>\n      <td>29024</td>\n      <td>25277</td>\n      <td>24721</td>\n    </tr>\n    <tr>\n      <th>15-64岁人口</th>\n      <td>62517</td>\n      <td>76260</td>\n      <td>88847</td>\n      <td>96871</td>\n      <td>96481</td>\n    </tr>\n    <tr>\n      <th>65岁以上人口</th>\n      <td>4981</td>\n      <td>6403</td>\n      <td>8872</td>\n      <td>19064</td>\n      <td>20059</td>\n    </tr>\n  </tbody>\n</table>\n</div>"
     },
     "execution_count": 3,
     "metadata": {},
     "output_type": "execute_result"
    }
   ],
   "source": [
    "df = pd.read_csv(StringIO(data), index_col=0)\n",
    "df"
   ],
   "metadata": {
    "collapsed": false,
    "pycharm": {
     "name": "#%%\n"
    }
   }
  },
  {
   "cell_type": "code",
   "execution_count": null,
   "outputs": [],
   "source": [],
   "metadata": {
    "collapsed": false,
    "pycharm": {
     "name": "#%%\n"
    }
   }
  }
 ],
 "metadata": {
  "kernelspec": {
   "display_name": "Python 3",
   "language": "python",
   "name": "python3"
  },
  "language_info": {
   "codemirror_mode": {
    "name": "ipython",
    "version": 2
   },
   "file_extension": ".py",
   "mimetype": "text/x-python",
   "name": "python",
   "nbconvert_exporter": "python",
   "pygments_lexer": "ipython2",
   "version": "2.7.6"
  }
 },
 "nbformat": 4,
 "nbformat_minor": 0
}