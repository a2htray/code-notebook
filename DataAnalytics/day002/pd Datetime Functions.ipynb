{
 "cells": [
  {
   "cell_type": "code",
   "execution_count": 37,
   "outputs": [],
   "source": [
    "import pandas as pd\n",
    "import numpy as np\n",
    "import matplotlib.pyplot as plt"
   ],
   "metadata": {
    "collapsed": false,
    "pycharm": {
     "name": "#%%\n"
    }
   }
  },
  {
   "cell_type": "code",
   "execution_count": 3,
   "outputs": [
    {
     "data": {
      "text/plain": "Timestamp('2020-09-11 00:00:00')"
     },
     "execution_count": 3,
     "metadata": {},
     "output_type": "execute_result"
    }
   ],
   "source": [
    "pd.to_datetime('2020-09-11')"
   ],
   "metadata": {
    "collapsed": false,
    "pycharm": {
     "name": "#%%\n"
    }
   }
  },
  {
   "cell_type": "code",
   "execution_count": 7,
   "outputs": [
    {
     "data": {
      "text/plain": "Timestamp('2015-07-04 00:00:00')"
     },
     "execution_count": 7,
     "metadata": {},
     "output_type": "execute_result"
    }
   ],
   "source": [
    "pd.to_datetime('4/7/2015', dayfirst=True)"
   ],
   "metadata": {
    "collapsed": false,
    "pycharm": {
     "name": "#%%\n"
    }
   }
  },
  {
   "cell_type": "code",
   "execution_count": 8,
   "outputs": [
    {
     "data": {
      "text/plain": "Timestamp('2015-07-04 00:00:00')"
     },
     "execution_count": 8,
     "metadata": {},
     "output_type": "execute_result"
    }
   ],
   "source": [
    "timestamp = pd.to_datetime('4/7/2015', dayfirst=True)\n",
    "timestamp"
   ],
   "metadata": {
    "collapsed": false,
    "pycharm": {
     "name": "#%%\n"
    }
   }
  },
  {
   "cell_type": "code",
   "execution_count": 11,
   "outputs": [
    {
     "data": {
      "text/plain": "(2015, 7, 4, 5)"
     },
     "execution_count": 11,
     "metadata": {},
     "output_type": "execute_result"
    }
   ],
   "source": [
    "timestamp.year, timestamp.month, timestamp.day, timestamp.weekday()"
   ],
   "metadata": {
    "collapsed": false,
    "pycharm": {
     "name": "#%%\n"
    }
   }
  },
  {
   "cell_type": "code",
   "execution_count": 12,
   "outputs": [
    {
     "data": {
      "text/plain": "['__add__',\n '__array_priority__',\n '__class__',\n '__delattr__',\n '__dict__',\n '__dir__',\n '__doc__',\n '__eq__',\n '__format__',\n '__ge__',\n '__getattribute__',\n '__gt__',\n '__hash__',\n '__init__',\n '__init_subclass__',\n '__le__',\n '__lt__',\n '__module__',\n '__ne__',\n '__new__',\n '__pyx_vtable__',\n '__radd__',\n '__reduce__',\n '__reduce_cython__',\n '__reduce_ex__',\n '__repr__',\n '__rsub__',\n '__setattr__',\n '__setstate__',\n '__setstate_cython__',\n '__sizeof__',\n '__str__',\n '__sub__',\n '__subclasshook__',\n '__weakref__',\n '_date_repr',\n '_freq',\n '_freqstr',\n '_repr_base',\n '_round',\n '_set_freq',\n '_short_repr',\n '_time_repr',\n 'asm8',\n 'astimezone',\n 'ceil',\n 'combine',\n 'ctime',\n 'date',\n 'day',\n 'day_name',\n 'day_of_week',\n 'day_of_year',\n 'dayofweek',\n 'dayofyear',\n 'days_in_month',\n 'daysinmonth',\n 'dst',\n 'floor',\n 'fold',\n 'freq',\n 'freqstr',\n 'fromisoformat',\n 'fromordinal',\n 'fromtimestamp',\n 'hour',\n 'is_leap_year',\n 'is_month_end',\n 'is_month_start',\n 'is_quarter_end',\n 'is_quarter_start',\n 'is_year_end',\n 'is_year_start',\n 'isocalendar',\n 'isoformat',\n 'isoweekday',\n 'max',\n 'microsecond',\n 'min',\n 'minute',\n 'month',\n 'month_name',\n 'nanosecond',\n 'normalize',\n 'now',\n 'quarter',\n 'replace',\n 'resolution',\n 'round',\n 'second',\n 'strftime',\n 'strptime',\n 'time',\n 'timestamp',\n 'timetuple',\n 'timetz',\n 'to_datetime64',\n 'to_julian_date',\n 'to_numpy',\n 'to_period',\n 'to_pydatetime',\n 'today',\n 'toordinal',\n 'tz',\n 'tz_convert',\n 'tz_localize',\n 'tzinfo',\n 'tzname',\n 'utcfromtimestamp',\n 'utcnow',\n 'utcoffset',\n 'utctimetuple',\n 'value',\n 'week',\n 'weekday',\n 'weekofyear',\n 'year']"
     },
     "execution_count": 12,
     "metadata": {},
     "output_type": "execute_result"
    }
   ],
   "source": [
    "dir(timestamp)"
   ],
   "metadata": {
    "collapsed": false,
    "pycharm": {
     "name": "#%%\n"
    }
   }
  },
  {
   "cell_type": "code",
   "execution_count": 13,
   "outputs": [
    {
     "data": {
      "text/plain": "numpy.datetime64('2015-07-04T00:00:00.000000000')"
     },
     "execution_count": 13,
     "metadata": {},
     "output_type": "execute_result"
    }
   ],
   "source": [
    "timestamp.to_numpy()"
   ],
   "metadata": {
    "collapsed": false,
    "pycharm": {
     "name": "#%%\n"
    }
   }
  },
  {
   "cell_type": "code",
   "execution_count": 19,
   "outputs": [
    {
     "data": {
      "text/plain": "            Low  High\n2022-11-04   12    20\n2022-11-05    9    20\n2022-11-06    9    23\n2022-11-07   11    25\n2022-11-08   11    25\n2022-11-09   13    25",
      "text/html": "<div>\n<style scoped>\n    .dataframe tbody tr th:only-of-type {\n        vertical-align: middle;\n    }\n\n    .dataframe tbody tr th {\n        vertical-align: top;\n    }\n\n    .dataframe thead th {\n        text-align: right;\n    }\n</style>\n<table border=\"1\" class=\"dataframe\">\n  <thead>\n    <tr style=\"text-align: right;\">\n      <th></th>\n      <th>Low</th>\n      <th>High</th>\n    </tr>\n  </thead>\n  <tbody>\n    <tr>\n      <th>2022-11-04</th>\n      <td>12</td>\n      <td>20</td>\n    </tr>\n    <tr>\n      <th>2022-11-05</th>\n      <td>9</td>\n      <td>20</td>\n    </tr>\n    <tr>\n      <th>2022-11-06</th>\n      <td>9</td>\n      <td>23</td>\n    </tr>\n    <tr>\n      <th>2022-11-07</th>\n      <td>11</td>\n      <td>25</td>\n    </tr>\n    <tr>\n      <th>2022-11-08</th>\n      <td>11</td>\n      <td>25</td>\n    </tr>\n    <tr>\n      <th>2022-11-09</th>\n      <td>13</td>\n      <td>25</td>\n    </tr>\n  </tbody>\n</table>\n</div>"
     },
     "execution_count": 19,
     "metadata": {},
     "output_type": "execute_result"
    }
   ],
   "source": [
    "# pd.Timestamp 作为 Index\n",
    "timestampIndex = [\n",
    "    pd.to_datetime('2022-11-04'),\n",
    "    pd.to_datetime('2022-11-05'),\n",
    "    pd.to_datetime('2022-11-06'),\n",
    "    pd.to_datetime('2022-11-07'),\n",
    "    pd.to_datetime('2022-11-08'),\n",
    "    pd.to_datetime('2022-11-09'),\n",
    "]\n",
    "temperatures = [\n",
    "    [12, 20],\n",
    "    [9, 20],\n",
    "    [9, 23],\n",
    "    [11, 25],\n",
    "    [11, 25],\n",
    "    [13, 25]\n",
    "]\n",
    "dfTemperature = pd.DataFrame(temperatures, index=timestampIndex, columns=['Low', 'High'])\n",
    "dfTemperature"
   ],
   "metadata": {
    "collapsed": false,
    "pycharm": {
     "name": "#%%\n"
    }
   }
  },
  {
   "cell_type": "code",
   "execution_count": 20,
   "outputs": [
    {
     "data": {
      "text/plain": "DatetimeIndex(['2022-11-04', '2022-11-05', '2022-11-06', '2022-11-07',\n               '2022-11-08', '2022-11-09'],\n              dtype='datetime64[ns]', freq=None)"
     },
     "execution_count": 20,
     "metadata": {},
     "output_type": "execute_result"
    }
   ],
   "source": [
    "dfTemperature.index"
   ],
   "metadata": {
    "collapsed": false,
    "pycharm": {
     "name": "#%%\n"
    }
   }
  },
  {
   "cell_type": "code",
   "execution_count": 22,
   "outputs": [
    {
     "data": {
      "text/plain": "DatetimeIndex(['2022-11-04', '2022-11-05', '2022-11-06', '2022-11-07',\n               '2022-11-08', '2022-11-09'],\n              dtype='datetime64[ns]', freq=None)"
     },
     "execution_count": 22,
     "metadata": {},
     "output_type": "execute_result"
    }
   ],
   "source": [
    "# timestampIndex = [\n",
    "#     pd.to_datetime('2022-11-04'),\n",
    "#     pd.to_datetime('2022-11-05'),\n",
    "#     pd.to_datetime('2022-11-06'),\n",
    "#     pd.to_datetime('2022-11-07'),\n",
    "#     pd.to_datetime('2022-11-08'),\n",
    "#     pd.to_datetime('2022-11-09'),\n",
    "# ]\n",
    "\n",
    "timestampIndex = pd.to_datetime(['2022-11-04', '2022-11-05', '2022-11-06', '2022-11-07', '2022-11-08', '2022-11-09'])\n",
    "timestampIndex"
   ],
   "metadata": {
    "collapsed": false,
    "pycharm": {
     "name": "#%%\n"
    }
   }
  },
  {
   "cell_type": "code",
   "execution_count": 31,
   "outputs": [
    {
     "data": {
      "text/plain": "DatetimeIndex(['2022-09-01', '2022-09-03', '2022-09-05'], dtype='datetime64[ns]', freq='2D')"
     },
     "execution_count": 31,
     "metadata": {},
     "output_type": "execute_result"
    }
   ],
   "source": [
    "# pd.data_range\n",
    "pd.date_range(start='2022-09-01', periods=3, freq='2D')"
   ],
   "metadata": {
    "collapsed": false,
    "pycharm": {
     "name": "#%%\n"
    }
   }
  },
  {
   "cell_type": "code",
   "execution_count": 43,
   "outputs": [
    {
     "data": {
      "text/plain": "<AxesSubplot:>"
     },
     "execution_count": 43,
     "metadata": {},
     "output_type": "execute_result"
    },
    {
     "data": {
      "text/plain": "<Figure size 640x480 with 1 Axes>",
      "image/png": "[encoded data removed]"
     },
     "metadata": {},
     "output_type": "display_data"
    }
   ],
   "source": [
    "index = pd.date_range(start='2022-10-01', periods=200, freq='d')\n",
    "data = np.random.normal(0, 1, 200)\n",
    "series = pd.Series(data, index=index)\n",
    "series.cumsum().plot()"
   ],
   "metadata": {
    "collapsed": false,
    "pycharm": {
     "name": "#%%\n"
    }
   }
  },
  {
   "cell_type": "code",
   "execution_count": 44,
   "outputs": [
    {
     "data": {
      "text/plain": "0.6846264380900625"
     },
     "execution_count": 44,
     "metadata": {},
     "output_type": "execute_result"
    }
   ],
   "source": [
    "series['2022-10-04']"
   ],
   "metadata": {
    "collapsed": false,
    "pycharm": {
     "name": "#%%\n"
    }
   }
  },
  {
   "cell_type": "code",
   "execution_count": 47,
   "outputs": [
    {
     "data": {
      "text/plain": "2022-11-30    0.806638\n2022-12-01   -0.387582\n2022-12-02   -1.101678\n2022-12-03    0.213958\n2022-12-04   -0.431578\n2022-12-05   -0.964913\nFreq: D, dtype: float64"
     },
     "execution_count": 47,
     "metadata": {},
     "output_type": "execute_result"
    }
   ],
   "source": [
    "import datetime\n",
    "series[datetime.date(2022, 11, 30): datetime.date(2022, 12, 5)]"
   ],
   "metadata": {
    "collapsed": false,
    "pycharm": {
     "name": "#%%\n"
    }
   }
  },
  {
   "cell_type": "code",
   "execution_count": 48,
   "outputs": [
    {
     "data": {
      "text/plain": "2023-01-01   -0.553533\n2023-01-02   -0.344821\n2023-01-03   -1.810857\n2023-01-04    1.943455\n2023-01-05    1.151549\n                ...   \n2023-04-14   -0.727802\n2023-04-15    0.542365\n2023-04-16   -0.222501\n2023-04-17   -0.694539\n2023-04-18    0.633431\nFreq: D, Length: 108, dtype: float64"
     },
     "execution_count": 48,
     "metadata": {},
     "output_type": "execute_result"
    }
   ],
   "source": [
    "series['2023-01':'2023-09']"
   ],
   "metadata": {
    "collapsed": false,
    "pycharm": {
     "name": "#%%\n"
    }
   }
  },
  {
   "cell_type": "code",
   "execution_count": null,
   "outputs": [],
   "source": [],
   "metadata": {
    "collapsed": false,
    "pycharm": {
     "name": "#%%\n"
    }
   }
  }
 ],
 "metadata": {
  "kernelspec": {
   "display_name": "Python 3",
   "language": "python",
   "name": "python3"
  },
  "language_info": {
   "codemirror_mode": {
    "name": "ipython",
    "version": 2
   },
   "file_extension": ".py",
   "mimetype": "text/x-python",
   "name": "python",
   "nbconvert_exporter": "python",
   "pygments_lexer": "ipython2",
   "version": "2.7.6"
  }
 },
 "nbformat": 4,
 "nbformat_minor": 0
}