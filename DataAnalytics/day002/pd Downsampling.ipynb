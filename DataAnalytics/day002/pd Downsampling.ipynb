{
 "cells": [
  {
   "cell_type": "code",
   "execution_count": 1,
   "outputs": [],
   "source": [
    "import pandas as pd\n",
    "import numpy as np\n",
    "import matplotlib.pyplot as plt"
   ],
   "metadata": {
    "collapsed": false,
    "pycharm": {
     "name": "#%%\n"
    }
   }
  },
  {
   "cell_type": "code",
   "execution_count": 6,
   "outputs": [
    {
     "data": {
      "text/plain": "2022-03-01 00:00:00    17.950793\n2022-03-01 01:00:00    24.746163\n2022-03-01 02:00:00    11.362021\n2022-03-01 03:00:00    19.919338\n2022-03-01 04:00:00    10.331118\n                         ...    \n2022-03-06 20:00:00    11.582492\n2022-03-06 21:00:00    12.803244\n2022-03-06 22:00:00    22.231103\n2022-03-06 23:00:00    11.940049\n2022-03-07 00:00:00    16.533339\nFreq: H, Length: 145, dtype: float64"
     },
     "execution_count": 6,
     "metadata": {},
     "output_type": "execute_result"
    }
   ],
   "source": [
    "# 2022-03 到 2022-03-07 每小时的气温\n",
    "dateIndex = pd.date_range(start='2022-03-01', end='2022-03-07', freq='1h')\n",
    "series = pd.Series(np.random.uniform(10, 25, len(dateIndex)), index=dateIndex)\n",
    "series"
   ],
   "metadata": {
    "collapsed": false,
    "pycharm": {
     "name": "#%%\n"
    }
   }
  },
  {
   "cell_type": "code",
   "execution_count": 10,
   "outputs": [
    {
     "data": {
      "text/plain": "2022-03-01    24.746163\n2022-03-02    24.692954\n2022-03-03    24.920102\n2022-03-04    24.311615\n2022-03-05    24.767576\n2022-03-06    24.889184\n2022-03-07    16.533339\nFreq: D, dtype: float64"
     },
     "execution_count": 10,
     "metadata": {},
     "output_type": "execute_result"
    }
   ],
   "source": [
    "# 取每天最高气温\n",
    "series.resample('1d').max()"
   ],
   "metadata": {
    "collapsed": false,
    "pycharm": {
     "name": "#%%\n"
    }
   }
  },
  {
   "cell_type": "code",
   "execution_count": 13,
   "outputs": [
    {
     "data": {
      "text/plain": "2022-03-01 00:00:00    17.950793\n2022-03-01 02:00:00    11.362021\n2022-03-01 04:00:00    10.331118\n2022-03-01 06:00:00    13.628038\n2022-03-01 08:00:00    15.076695\n                         ...    \n2022-03-06 16:00:00    12.176618\n2022-03-06 18:00:00    13.699593\n2022-03-06 20:00:00    11.582492\n2022-03-06 22:00:00    11.940049\n2022-03-07 00:00:00    16.533339\nFreq: 2H, Length: 73, dtype: float64"
     },
     "execution_count": 13,
     "metadata": {},
     "output_type": "execute_result"
    }
   ],
   "source": [
    "series.resample('2h').min()"
   ],
   "metadata": {
    "collapsed": false,
    "pycharm": {
     "name": "#%%\n"
    }
   }
  },
  {
   "cell_type": "code",
   "execution_count": null,
   "outputs": [],
   "source": [],
   "metadata": {
    "collapsed": false,
    "pycharm": {
     "name": "#%%\n"
    }
   }
  }
 ],
 "metadata": {
  "kernelspec": {
   "display_name": "Python 3",
   "language": "python",
   "name": "python3"
  },
  "language_info": {
   "codemirror_mode": {
    "name": "ipython",
    "version": 2
   },
   "file_extension": ".py",
   "mimetype": "text/x-python",
   "name": "python",
   "nbconvert_exporter": "python",
   "pygments_lexer": "ipython2",
   "version": "2.7.6"
  }
 },
 "nbformat": 4,
 "nbformat_minor": 0
}