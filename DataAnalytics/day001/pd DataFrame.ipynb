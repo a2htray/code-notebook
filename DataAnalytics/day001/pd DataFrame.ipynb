{
 "cells": [
  {
   "cell_type": "code",
   "execution_count": 24,
   "outputs": [],
   "source": [
    "import pandas as pd\n",
    "import numpy as np"
   ],
   "metadata": {
    "collapsed": false,
    "pycharm": {
     "name": "#%%\n"
    }
   }
  },
  {
   "cell_type": "code",
   "execution_count": 25,
   "outputs": [
    {
     "data": {
      "text/plain": "   Year  Product\n0  2000    10.03\n1  2001    11.09\n2  2002    12.17\n3  2003    13.74",
      "text/html": "<div>\n<style scoped>\n    .dataframe tbody tr th:only-of-type {\n        vertical-align: middle;\n    }\n\n    .dataframe tbody tr th {\n        vertical-align: top;\n    }\n\n    .dataframe thead th {\n        text-align: right;\n    }\n</style>\n<table border=\"1\" class=\"dataframe\">\n  <thead>\n    <tr style=\"text-align: right;\">\n      <th></th>\n      <th>Year</th>\n      <th>Product</th>\n    </tr>\n  </thead>\n  <tbody>\n    <tr>\n      <th>0</th>\n      <td>2000</td>\n      <td>10.03</td>\n    </tr>\n    <tr>\n      <th>1</th>\n      <td>2001</td>\n      <td>11.09</td>\n    </tr>\n    <tr>\n      <th>2</th>\n      <td>2002</td>\n      <td>12.17</td>\n    </tr>\n    <tr>\n      <th>3</th>\n      <td>2003</td>\n      <td>13.74</td>\n    </tr>\n  </tbody>\n</table>\n</div>"
     },
     "execution_count": 25,
     "metadata": {},
     "output_type": "execute_result"
    }
   ],
   "source": [
    "data = {\n",
    "    'Year': [2000, 2001, 2002, 2003],\n",
    "    'Product': [10.03, 11.09, 12.17, 13.74]\n",
    "}\n",
    "dataframe = pd.DataFrame(data)\n",
    "dataframe"
   ],
   "metadata": {
    "collapsed": false,
    "pycharm": {
     "name": "#%%\n"
    }
   }
  },
  {
   "cell_type": "code",
   "execution_count": 26,
   "outputs": [
    {
     "data": {
      "text/plain": "   Product  Year\n0    10.03  2000\n1    11.09  2001\n2    12.17  2002\n3    13.74  2003",
      "text/html": "<div>\n<style scoped>\n    .dataframe tbody tr th:only-of-type {\n        vertical-align: middle;\n    }\n\n    .dataframe tbody tr th {\n        vertical-align: top;\n    }\n\n    .dataframe thead th {\n        text-align: right;\n    }\n</style>\n<table border=\"1\" class=\"dataframe\">\n  <thead>\n    <tr style=\"text-align: right;\">\n      <th></th>\n      <th>Product</th>\n      <th>Year</th>\n    </tr>\n  </thead>\n  <tbody>\n    <tr>\n      <th>0</th>\n      <td>10.03</td>\n      <td>2000</td>\n    </tr>\n    <tr>\n      <th>1</th>\n      <td>11.09</td>\n      <td>2001</td>\n    </tr>\n    <tr>\n      <th>2</th>\n      <td>12.17</td>\n      <td>2002</td>\n    </tr>\n    <tr>\n      <th>3</th>\n      <td>13.74</td>\n      <td>2003</td>\n    </tr>\n  </tbody>\n</table>\n</div>"
     },
     "execution_count": 26,
     "metadata": {},
     "output_type": "execute_result"
    }
   ],
   "source": [
    "# 使用 columns 参数作 columns 排序\n",
    "dataframe2 = pd.DataFrame(data, columns=['Product', 'Year'])\n",
    "dataframe2"
   ],
   "metadata": {
    "collapsed": false,
    "pycharm": {
     "name": "#%%\n"
    }
   }
  },
  {
   "cell_type": "code",
   "execution_count": 27,
   "outputs": [
    {
     "data": {
      "text/plain": "   Product  Year\na    10.03  2000\nb    11.09  2001\nc    12.17  2002\nd    13.74  2003",
      "text/html": "<div>\n<style scoped>\n    .dataframe tbody tr th:only-of-type {\n        vertical-align: middle;\n    }\n\n    .dataframe tbody tr th {\n        vertical-align: top;\n    }\n\n    .dataframe thead th {\n        text-align: right;\n    }\n</style>\n<table border=\"1\" class=\"dataframe\">\n  <thead>\n    <tr style=\"text-align: right;\">\n      <th></th>\n      <th>Product</th>\n      <th>Year</th>\n    </tr>\n  </thead>\n  <tbody>\n    <tr>\n      <th>a</th>\n      <td>10.03</td>\n      <td>2000</td>\n    </tr>\n    <tr>\n      <th>b</th>\n      <td>11.09</td>\n      <td>2001</td>\n    </tr>\n    <tr>\n      <th>c</th>\n      <td>12.17</td>\n      <td>2002</td>\n    </tr>\n    <tr>\n      <th>d</th>\n      <td>13.74</td>\n      <td>2003</td>\n    </tr>\n  </tbody>\n</table>\n</div>"
     },
     "execution_count": 27,
     "metadata": {},
     "output_type": "execute_result"
    }
   ],
   "source": [
    "# 同时使用 index 和 columns 参数\n",
    "dataframe3 = pd.DataFrame(data, columns=['Product', 'Year'], index=['a', 'b', 'c', 'd'])\n",
    "dataframe3"
   ],
   "metadata": {
    "collapsed": false,
    "pycharm": {
     "name": "#%%\n"
    }
   }
  },
  {
   "cell_type": "code",
   "execution_count": 28,
   "outputs": [
    {
     "data": {
      "text/plain": "a    10.03\nb    11.09\nc    12.17\nd    13.74\nName: Product, dtype: float64"
     },
     "execution_count": 28,
     "metadata": {},
     "output_type": "execute_result"
    }
   ],
   "source": [
    "# 访问 DataFrame 的列\n",
    "## Case 1\n",
    "dataframe3.Product"
   ],
   "metadata": {
    "collapsed": false,
    "pycharm": {
     "name": "#%%\n"
    }
   }
  },
  {
   "cell_type": "code",
   "execution_count": 29,
   "outputs": [
    {
     "data": {
      "text/plain": "a    10.03\nb    11.09\nc    12.17\nd    13.74\nName: Product, dtype: float64"
     },
     "execution_count": 29,
     "metadata": {},
     "output_type": "execute_result"
    }
   ],
   "source": [
    "## Case 2\n",
    "dataframe3['Product']"
   ],
   "metadata": {
    "collapsed": false,
    "pycharm": {
     "name": "#%%\n"
    }
   }
  },
  {
   "cell_type": "code",
   "execution_count": 30,
   "outputs": [
    {
     "data": {
      "text/plain": "   Product  Year  Populace\na    10.03  2000    126743\nb    11.09  2001    127627\nc    12.17  2002    128453\nd    13.74  2003    129227",
      "text/html": "<div>\n<style scoped>\n    .dataframe tbody tr th:only-of-type {\n        vertical-align: middle;\n    }\n\n    .dataframe tbody tr th {\n        vertical-align: top;\n    }\n\n    .dataframe thead th {\n        text-align: right;\n    }\n</style>\n<table border=\"1\" class=\"dataframe\">\n  <thead>\n    <tr style=\"text-align: right;\">\n      <th></th>\n      <th>Product</th>\n      <th>Year</th>\n      <th>Populace</th>\n    </tr>\n  </thead>\n  <tbody>\n    <tr>\n      <th>a</th>\n      <td>10.03</td>\n      <td>2000</td>\n      <td>126743</td>\n    </tr>\n    <tr>\n      <th>b</th>\n      <td>11.09</td>\n      <td>2001</td>\n      <td>127627</td>\n    </tr>\n    <tr>\n      <th>c</th>\n      <td>12.17</td>\n      <td>2002</td>\n      <td>128453</td>\n    </tr>\n    <tr>\n      <th>d</th>\n      <td>13.74</td>\n      <td>2003</td>\n      <td>129227</td>\n    </tr>\n  </tbody>\n</table>\n</div>"
     },
     "execution_count": 30,
     "metadata": {},
     "output_type": "execute_result"
    }
   ],
   "source": [
    "# DataFrame 新增一列\n",
    "dataframe3['Populace'] = [126743, 127627, 128453, 129227]\n",
    "dataframe3"
   ],
   "metadata": {
    "collapsed": false,
    "pycharm": {
     "name": "#%%\n"
    }
   }
  },
  {
   "cell_type": "code",
   "execution_count": 31,
   "outputs": [
    {
     "data": {
      "text/plain": "Product         10.03\nYear          2000.00\nPopulace    126743.00\nName: a, dtype: float64"
     },
     "execution_count": 31,
     "metadata": {},
     "output_type": "execute_result"
    }
   ],
   "source": [
    "# 访问 DataFrame 的一行\n",
    "## Case 1 .iloc 通过整数索引值取一行\n",
    "dataframe3.iloc[0]"
   ],
   "metadata": {
    "collapsed": false,
    "pycharm": {
     "name": "#%%\n"
    }
   }
  },
  {
   "cell_type": "code",
   "execution_count": 32,
   "outputs": [
    {
     "data": {
      "text/plain": "Product         10.03\nYear          2000.00\nPopulace    126743.00\nName: a, dtype: float64"
     },
     "execution_count": 32,
     "metadata": {},
     "output_type": "execute_result"
    }
   ],
   "source": [
    "## Case 2 .loc 通过索引值取一行\n",
    "dataframe3.loc['a']"
   ],
   "metadata": {
    "collapsed": false,
    "pycharm": {
     "name": "#%%\n"
    }
   }
  },
  {
   "cell_type": "code",
   "execution_count": 33,
   "outputs": [
    {
     "data": {
      "text/plain": "   Product  Year  Populace\na    10.03  2000    126743\nb    11.09  2001    127627\nc    12.17  2002    128453\nd    13.74  2003    129227",
      "text/html": "<div>\n<style scoped>\n    .dataframe tbody tr th:only-of-type {\n        vertical-align: middle;\n    }\n\n    .dataframe tbody tr th {\n        vertical-align: top;\n    }\n\n    .dataframe thead th {\n        text-align: right;\n    }\n</style>\n<table border=\"1\" class=\"dataframe\">\n  <thead>\n    <tr style=\"text-align: right;\">\n      <th></th>\n      <th>Product</th>\n      <th>Year</th>\n      <th>Populace</th>\n    </tr>\n  </thead>\n  <tbody>\n    <tr>\n      <th>a</th>\n      <td>10.03</td>\n      <td>2000</td>\n      <td>126743</td>\n    </tr>\n    <tr>\n      <th>b</th>\n      <td>11.09</td>\n      <td>2001</td>\n      <td>127627</td>\n    </tr>\n    <tr>\n      <th>c</th>\n      <td>12.17</td>\n      <td>2002</td>\n      <td>128453</td>\n    </tr>\n    <tr>\n      <th>d</th>\n      <td>13.74</td>\n      <td>2003</td>\n      <td>129227</td>\n    </tr>\n  </tbody>\n</table>\n</div>"
     },
     "execution_count": 33,
     "metadata": {},
     "output_type": "execute_result"
    }
   ],
   "source": [
    "dataframe3"
   ],
   "metadata": {
    "collapsed": false,
    "pycharm": {
     "name": "#%%\n"
    }
   }
  },
  {
   "cell_type": "code",
   "execution_count": 34,
   "outputs": [
    {
     "data": {
      "text/plain": "   Product  Year  Populace\na    10.03  2000    126743",
      "text/html": "<div>\n<style scoped>\n    .dataframe tbody tr th:only-of-type {\n        vertical-align: middle;\n    }\n\n    .dataframe tbody tr th {\n        vertical-align: top;\n    }\n\n    .dataframe thead th {\n        text-align: right;\n    }\n</style>\n<table border=\"1\" class=\"dataframe\">\n  <thead>\n    <tr style=\"text-align: right;\">\n      <th></th>\n      <th>Product</th>\n      <th>Year</th>\n      <th>Populace</th>\n    </tr>\n  </thead>\n  <tbody>\n    <tr>\n      <th>a</th>\n      <td>10.03</td>\n      <td>2000</td>\n      <td>126743</td>\n    </tr>\n  </tbody>\n</table>\n</div>"
     },
     "execution_count": 34,
     "metadata": {},
     "output_type": "execute_result"
    }
   ],
   "source": [
    "# .head 和 tail 用于查看前 n 行或后 n 行\n",
    "## Case 1\n",
    "dataframe3.head(1)"
   ],
   "metadata": {
    "collapsed": false,
    "pycharm": {
     "name": "#%%\n"
    }
   }
  },
  {
   "cell_type": "code",
   "execution_count": 35,
   "outputs": [
    {
     "data": {
      "text/plain": "   Product  Year  Populace\nd    13.74  2003    129227",
      "text/html": "<div>\n<style scoped>\n    .dataframe tbody tr th:only-of-type {\n        vertical-align: middle;\n    }\n\n    .dataframe tbody tr th {\n        vertical-align: top;\n    }\n\n    .dataframe thead th {\n        text-align: right;\n    }\n</style>\n<table border=\"1\" class=\"dataframe\">\n  <thead>\n    <tr style=\"text-align: right;\">\n      <th></th>\n      <th>Product</th>\n      <th>Year</th>\n      <th>Populace</th>\n    </tr>\n  </thead>\n  <tbody>\n    <tr>\n      <th>d</th>\n      <td>13.74</td>\n      <td>2003</td>\n      <td>129227</td>\n    </tr>\n  </tbody>\n</table>\n</div>"
     },
     "execution_count": 35,
     "metadata": {},
     "output_type": "execute_result"
    }
   ],
   "source": [
    "## Case 2\n",
    "dataframe3.tail(1)"
   ],
   "metadata": {
    "collapsed": false,
    "pycharm": {
     "name": "#%%\n"
    }
   }
  },
  {
   "cell_type": "code",
   "execution_count": 39,
   "outputs": [
    {
     "data": {
      "text/plain": "               x         y\npoint0  0.471262  0.722694\npoint1  0.298668  0.952122\npoint2  0.651043  0.587749\npoint3  0.838603  0.979577\npoint4  0.593755  0.584091\npoint5  0.894599  0.851924\npoint6  0.313031  0.843849\npoint7  0.857707  0.496455",
      "text/html": "<div>\n<style scoped>\n    .dataframe tbody tr th:only-of-type {\n        vertical-align: middle;\n    }\n\n    .dataframe tbody tr th {\n        vertical-align: top;\n    }\n\n    .dataframe thead th {\n        text-align: right;\n    }\n</style>\n<table border=\"1\" class=\"dataframe\">\n  <thead>\n    <tr style=\"text-align: right;\">\n      <th></th>\n      <th>x</th>\n      <th>y</th>\n    </tr>\n  </thead>\n  <tbody>\n    <tr>\n      <th>point0</th>\n      <td>0.471262</td>\n      <td>0.722694</td>\n    </tr>\n    <tr>\n      <th>point1</th>\n      <td>0.298668</td>\n      <td>0.952122</td>\n    </tr>\n    <tr>\n      <th>point2</th>\n      <td>0.651043</td>\n      <td>0.587749</td>\n    </tr>\n    <tr>\n      <th>point3</th>\n      <td>0.838603</td>\n      <td>0.979577</td>\n    </tr>\n    <tr>\n      <th>point4</th>\n      <td>0.593755</td>\n      <td>0.584091</td>\n    </tr>\n    <tr>\n      <th>point5</th>\n      <td>0.894599</td>\n      <td>0.851924</td>\n    </tr>\n    <tr>\n      <th>point6</th>\n      <td>0.313031</td>\n      <td>0.843849</td>\n    </tr>\n    <tr>\n      <th>point7</th>\n      <td>0.857707</td>\n      <td>0.496455</td>\n    </tr>\n  </tbody>\n</table>\n</div>"
     },
     "execution_count": 39,
     "metadata": {},
     "output_type": "execute_result"
    }
   ],
   "source": [
    "columns = ['x', 'y']\n",
    "dataframe4 = pd.DataFrame(np.random.rand(8, 2), columns=columns, index=['point{0}'.format(idx) for idx in range(8)])\n",
    "dataframe4"
   ],
   "metadata": {
    "collapsed": false,
    "pycharm": {
     "name": "#%%\n"
    }
   }
  },
  {
   "cell_type": "code",
   "execution_count": 40,
   "outputs": [
    {
     "data": {
      "text/plain": "               x         y\npoint0  0.331815  0.659741\npoint1  0.423469  0.285353\npoint2  0.949556  0.886314\npoint3  0.398514  0.973473\npoint4  0.675707  0.771387\npoint5  0.375466  0.931312\npoint6  0.186534  0.096133\npoint7  0.956707  0.736742",
      "text/html": "<div>\n<style scoped>\n    .dataframe tbody tr th:only-of-type {\n        vertical-align: middle;\n    }\n\n    .dataframe tbody tr th {\n        vertical-align: top;\n    }\n\n    .dataframe thead th {\n        text-align: right;\n    }\n</style>\n<table border=\"1\" class=\"dataframe\">\n  <thead>\n    <tr style=\"text-align: right;\">\n      <th></th>\n      <th>x</th>\n      <th>y</th>\n    </tr>\n  </thead>\n  <tbody>\n    <tr>\n      <th>point0</th>\n      <td>0.331815</td>\n      <td>0.659741</td>\n    </tr>\n    <tr>\n      <th>point1</th>\n      <td>0.423469</td>\n      <td>0.285353</td>\n    </tr>\n    <tr>\n      <th>point2</th>\n      <td>0.949556</td>\n      <td>0.886314</td>\n    </tr>\n    <tr>\n      <th>point3</th>\n      <td>0.398514</td>\n      <td>0.973473</td>\n    </tr>\n    <tr>\n      <th>point4</th>\n      <td>0.675707</td>\n      <td>0.771387</td>\n    </tr>\n    <tr>\n      <th>point5</th>\n      <td>0.375466</td>\n      <td>0.931312</td>\n    </tr>\n    <tr>\n      <th>point6</th>\n      <td>0.186534</td>\n      <td>0.096133</td>\n    </tr>\n    <tr>\n      <th>point7</th>\n      <td>0.956707</td>\n      <td>0.736742</td>\n    </tr>\n  </tbody>\n</table>\n</div>"
     },
     "execution_count": 40,
     "metadata": {},
     "output_type": "execute_result"
    }
   ],
   "source": [
    "dataframe5 = pd.DataFrame(np.random.rand(8, 2), columns=columns, index=['point{0}'.format(idx) for idx in range(8)])\n",
    "dataframe5"
   ],
   "metadata": {
    "collapsed": false,
    "pycharm": {
     "name": "#%%\n"
    }
   }
  },
  {
   "cell_type": "code",
   "execution_count": 41,
   "outputs": [
    {
     "data": {
      "text/plain": "               x         y\npoint0  0.803077  1.382435\npoint1  0.722137  1.237475\npoint2  1.600599  1.474063\npoint3  1.237118  1.953050\npoint4  1.269463  1.355478\npoint5  1.270065  1.783237\npoint6  0.499565  0.939982\npoint7  1.814415  1.233197",
      "text/html": "<div>\n<style scoped>\n    .dataframe tbody tr th:only-of-type {\n        vertical-align: middle;\n    }\n\n    .dataframe tbody tr th {\n        vertical-align: top;\n    }\n\n    .dataframe thead th {\n        text-align: right;\n    }\n</style>\n<table border=\"1\" class=\"dataframe\">\n  <thead>\n    <tr style=\"text-align: right;\">\n      <th></th>\n      <th>x</th>\n      <th>y</th>\n    </tr>\n  </thead>\n  <tbody>\n    <tr>\n      <th>point0</th>\n      <td>0.803077</td>\n      <td>1.382435</td>\n    </tr>\n    <tr>\n      <th>point1</th>\n      <td>0.722137</td>\n      <td>1.237475</td>\n    </tr>\n    <tr>\n      <th>point2</th>\n      <td>1.600599</td>\n      <td>1.474063</td>\n    </tr>\n    <tr>\n      <th>point3</th>\n      <td>1.237118</td>\n      <td>1.953050</td>\n    </tr>\n    <tr>\n      <th>point4</th>\n      <td>1.269463</td>\n      <td>1.355478</td>\n    </tr>\n    <tr>\n      <th>point5</th>\n      <td>1.270065</td>\n      <td>1.783237</td>\n    </tr>\n    <tr>\n      <th>point6</th>\n      <td>0.499565</td>\n      <td>0.939982</td>\n    </tr>\n    <tr>\n      <th>point7</th>\n      <td>1.814415</td>\n      <td>1.233197</td>\n    </tr>\n  </tbody>\n</table>\n</div>"
     },
     "execution_count": 41,
     "metadata": {},
     "output_type": "execute_result"
    }
   ],
   "source": [
    "# 数值类型的 DataFrame 相加\n",
    "dataframe4 + dataframe5"
   ],
   "metadata": {
    "collapsed": false,
    "pycharm": {
     "name": "#%%\n"
    }
   }
  },
  {
   "cell_type": "code",
   "execution_count": 42,
   "outputs": [
    {
     "data": {
      "text/plain": "               x         y\npoint0  0.803077  1.382435\npoint1  0.722137  1.237475\npoint2  1.600599  1.474063\npoint3  1.237118  1.953050\npoint4  1.269463  1.355478\npoint5  1.270065  1.783237\npoint6  0.499565  0.939982\npoint7  1.814415  1.233197",
      "text/html": "<div>\n<style scoped>\n    .dataframe tbody tr th:only-of-type {\n        vertical-align: middle;\n    }\n\n    .dataframe tbody tr th {\n        vertical-align: top;\n    }\n\n    .dataframe thead th {\n        text-align: right;\n    }\n</style>\n<table border=\"1\" class=\"dataframe\">\n  <thead>\n    <tr style=\"text-align: right;\">\n      <th></th>\n      <th>x</th>\n      <th>y</th>\n    </tr>\n  </thead>\n  <tbody>\n    <tr>\n      <th>point0</th>\n      <td>0.803077</td>\n      <td>1.382435</td>\n    </tr>\n    <tr>\n      <th>point1</th>\n      <td>0.722137</td>\n      <td>1.237475</td>\n    </tr>\n    <tr>\n      <th>point2</th>\n      <td>1.600599</td>\n      <td>1.474063</td>\n    </tr>\n    <tr>\n      <th>point3</th>\n      <td>1.237118</td>\n      <td>1.953050</td>\n    </tr>\n    <tr>\n      <th>point4</th>\n      <td>1.269463</td>\n      <td>1.355478</td>\n    </tr>\n    <tr>\n      <th>point5</th>\n      <td>1.270065</td>\n      <td>1.783237</td>\n    </tr>\n    <tr>\n      <th>point6</th>\n      <td>0.499565</td>\n      <td>0.939982</td>\n    </tr>\n    <tr>\n      <th>point7</th>\n      <td>1.814415</td>\n      <td>1.233197</td>\n    </tr>\n  </tbody>\n</table>\n</div>"
     },
     "execution_count": 42,
     "metadata": {},
     "output_type": "execute_result"
    }
   ],
   "source": [
    "# DataFrame 间的加、减、乘、除\n",
    "## Case 1 add\n",
    "dataframe4.add(dataframe5)"
   ],
   "metadata": {
    "collapsed": false,
    "pycharm": {
     "name": "#%%\n"
    }
   }
  },
  {
   "cell_type": "code",
   "execution_count": 43,
   "outputs": [
    {
     "data": {
      "text/plain": "               x         y\npoint0  0.471262  0.722694\npoint1  0.298668  0.952122\npoint2  0.651043  0.587749\npoint3  0.838603  0.979577\npoint4  0.593755  0.584091\npoint5  0.894599  0.851924\npoint6  0.313031  0.843849\npoint7  0.857707  0.496455",
      "text/html": "<div>\n<style scoped>\n    .dataframe tbody tr th:only-of-type {\n        vertical-align: middle;\n    }\n\n    .dataframe tbody tr th {\n        vertical-align: top;\n    }\n\n    .dataframe thead th {\n        text-align: right;\n    }\n</style>\n<table border=\"1\" class=\"dataframe\">\n  <thead>\n    <tr style=\"text-align: right;\">\n      <th></th>\n      <th>x</th>\n      <th>y</th>\n    </tr>\n  </thead>\n  <tbody>\n    <tr>\n      <th>point0</th>\n      <td>0.471262</td>\n      <td>0.722694</td>\n    </tr>\n    <tr>\n      <th>point1</th>\n      <td>0.298668</td>\n      <td>0.952122</td>\n    </tr>\n    <tr>\n      <th>point2</th>\n      <td>0.651043</td>\n      <td>0.587749</td>\n    </tr>\n    <tr>\n      <th>point3</th>\n      <td>0.838603</td>\n      <td>0.979577</td>\n    </tr>\n    <tr>\n      <th>point4</th>\n      <td>0.593755</td>\n      <td>0.584091</td>\n    </tr>\n    <tr>\n      <th>point5</th>\n      <td>0.894599</td>\n      <td>0.851924</td>\n    </tr>\n    <tr>\n      <th>point6</th>\n      <td>0.313031</td>\n      <td>0.843849</td>\n    </tr>\n    <tr>\n      <th>point7</th>\n      <td>0.857707</td>\n      <td>0.496455</td>\n    </tr>\n  </tbody>\n</table>\n</div>"
     },
     "execution_count": 43,
     "metadata": {},
     "output_type": "execute_result"
    }
   ],
   "source": [
    "dataframe4"
   ],
   "metadata": {
    "collapsed": false,
    "pycharm": {
     "name": "#%%\n"
    }
   }
  },
  {
   "cell_type": "code",
   "execution_count": 44,
   "outputs": [
    {
     "data": {
      "text/plain": "               x         y\npoint0  0.139448  0.062952\npoint1 -0.124802  0.666769\npoint2 -0.298513 -0.298566\npoint3  0.440089  0.006104\npoint4 -0.081952 -0.187296\npoint5  0.519134 -0.079388\npoint6  0.126497  0.747716\npoint7 -0.099000 -0.240288",
      "text/html": "<div>\n<style scoped>\n    .dataframe tbody tr th:only-of-type {\n        vertical-align: middle;\n    }\n\n    .dataframe tbody tr th {\n        vertical-align: top;\n    }\n\n    .dataframe thead th {\n        text-align: right;\n    }\n</style>\n<table border=\"1\" class=\"dataframe\">\n  <thead>\n    <tr style=\"text-align: right;\">\n      <th></th>\n      <th>x</th>\n      <th>y</th>\n    </tr>\n  </thead>\n  <tbody>\n    <tr>\n      <th>point0</th>\n      <td>0.139448</td>\n      <td>0.062952</td>\n    </tr>\n    <tr>\n      <th>point1</th>\n      <td>-0.124802</td>\n      <td>0.666769</td>\n    </tr>\n    <tr>\n      <th>point2</th>\n      <td>-0.298513</td>\n      <td>-0.298566</td>\n    </tr>\n    <tr>\n      <th>point3</th>\n      <td>0.440089</td>\n      <td>0.006104</td>\n    </tr>\n    <tr>\n      <th>point4</th>\n      <td>-0.081952</td>\n      <td>-0.187296</td>\n    </tr>\n    <tr>\n      <th>point5</th>\n      <td>0.519134</td>\n      <td>-0.079388</td>\n    </tr>\n    <tr>\n      <th>point6</th>\n      <td>0.126497</td>\n      <td>0.747716</td>\n    </tr>\n    <tr>\n      <th>point7</th>\n      <td>-0.099000</td>\n      <td>-0.240288</td>\n    </tr>\n  </tbody>\n</table>\n</div>"
     },
     "execution_count": 44,
     "metadata": {},
     "output_type": "execute_result"
    }
   ],
   "source": [
    "## Case 2 sub\n",
    "dataframe4.sub(dataframe5)"
   ],
   "metadata": {
    "collapsed": false,
    "pycharm": {
     "name": "#%%\n"
    }
   }
  },
  {
   "cell_type": "code",
   "execution_count": 46,
   "outputs": [
    {
     "data": {
      "text/plain": "               x         y\npoint0  0.156372  0.476791\npoint1  0.126476  0.271691\npoint2  0.618202  0.520930\npoint3  0.334195  0.953592\npoint4  0.401205  0.450560\npoint5  0.335891  0.793408\npoint6  0.058391  0.081122\npoint7  0.820575  0.365759",
      "text/html": "<div>\n<style scoped>\n    .dataframe tbody tr th:only-of-type {\n        vertical-align: middle;\n    }\n\n    .dataframe tbody tr th {\n        vertical-align: top;\n    }\n\n    .dataframe thead th {\n        text-align: right;\n    }\n</style>\n<table border=\"1\" class=\"dataframe\">\n  <thead>\n    <tr style=\"text-align: right;\">\n      <th></th>\n      <th>x</th>\n      <th>y</th>\n    </tr>\n  </thead>\n  <tbody>\n    <tr>\n      <th>point0</th>\n      <td>0.156372</td>\n      <td>0.476791</td>\n    </tr>\n    <tr>\n      <th>point1</th>\n      <td>0.126476</td>\n      <td>0.271691</td>\n    </tr>\n    <tr>\n      <th>point2</th>\n      <td>0.618202</td>\n      <td>0.520930</td>\n    </tr>\n    <tr>\n      <th>point3</th>\n      <td>0.334195</td>\n      <td>0.953592</td>\n    </tr>\n    <tr>\n      <th>point4</th>\n      <td>0.401205</td>\n      <td>0.450560</td>\n    </tr>\n    <tr>\n      <th>point5</th>\n      <td>0.335891</td>\n      <td>0.793408</td>\n    </tr>\n    <tr>\n      <th>point6</th>\n      <td>0.058391</td>\n      <td>0.081122</td>\n    </tr>\n    <tr>\n      <th>point7</th>\n      <td>0.820575</td>\n      <td>0.365759</td>\n    </tr>\n  </tbody>\n</table>\n</div>"
     },
     "execution_count": 46,
     "metadata": {},
     "output_type": "execute_result"
    }
   ],
   "source": [
    "## Case 3 mul\n",
    "dataframe4.mul(dataframe5)"
   ],
   "metadata": {
    "collapsed": false,
    "pycharm": {
     "name": "#%%\n"
    }
   }
  },
  {
   "cell_type": "code",
   "execution_count": 47,
   "outputs": [
    {
     "data": {
      "text/plain": "               x         y\npoint0  1.420258  1.095420\npoint1  0.705288  3.336646\npoint2  0.685628  0.663138\npoint3  2.104324  1.006270\npoint4  0.878717  0.757196\npoint5  2.382640  0.914757\npoint6  1.678147  8.777946\npoint7  0.896520  0.673851",
      "text/html": "<div>\n<style scoped>\n    .dataframe tbody tr th:only-of-type {\n        vertical-align: middle;\n    }\n\n    .dataframe tbody tr th {\n        vertical-align: top;\n    }\n\n    .dataframe thead th {\n        text-align: right;\n    }\n</style>\n<table border=\"1\" class=\"dataframe\">\n  <thead>\n    <tr style=\"text-align: right;\">\n      <th></th>\n      <th>x</th>\n      <th>y</th>\n    </tr>\n  </thead>\n  <tbody>\n    <tr>\n      <th>point0</th>\n      <td>1.420258</td>\n      <td>1.095420</td>\n    </tr>\n    <tr>\n      <th>point1</th>\n      <td>0.705288</td>\n      <td>3.336646</td>\n    </tr>\n    <tr>\n      <th>point2</th>\n      <td>0.685628</td>\n      <td>0.663138</td>\n    </tr>\n    <tr>\n      <th>point3</th>\n      <td>2.104324</td>\n      <td>1.006270</td>\n    </tr>\n    <tr>\n      <th>point4</th>\n      <td>0.878717</td>\n      <td>0.757196</td>\n    </tr>\n    <tr>\n      <th>point5</th>\n      <td>2.382640</td>\n      <td>0.914757</td>\n    </tr>\n    <tr>\n      <th>point6</th>\n      <td>1.678147</td>\n      <td>8.777946</td>\n    </tr>\n    <tr>\n      <th>point7</th>\n      <td>0.896520</td>\n      <td>0.673851</td>\n    </tr>\n  </tbody>\n</table>\n</div>"
     },
     "execution_count": 47,
     "metadata": {},
     "output_type": "execute_result"
    }
   ],
   "source": [
    "## Case 4 div\n",
    "dataframe4.div(dataframe5)"
   ],
   "metadata": {
    "collapsed": false,
    "pycharm": {
     "name": "#%%\n"
    }
   }
  },
  {
   "cell_type": "code",
   "execution_count": 48,
   "outputs": [
    {
     "data": {
      "text/plain": "              x         y\ncount  8.000000  8.000000\nmean   0.537221  0.667557\nstd    0.289996  0.316056\nmin    0.186534  0.096133\n25%    0.364553  0.566144\n50%    0.410992  0.754065\n75%    0.744170  0.897564\nmax    0.956707  0.973473",
      "text/html": "<div>\n<style scoped>\n    .dataframe tbody tr th:only-of-type {\n        vertical-align: middle;\n    }\n\n    .dataframe tbody tr th {\n        vertical-align: top;\n    }\n\n    .dataframe thead th {\n        text-align: right;\n    }\n</style>\n<table border=\"1\" class=\"dataframe\">\n  <thead>\n    <tr style=\"text-align: right;\">\n      <th></th>\n      <th>x</th>\n      <th>y</th>\n    </tr>\n  </thead>\n  <tbody>\n    <tr>\n      <th>count</th>\n      <td>8.000000</td>\n      <td>8.000000</td>\n    </tr>\n    <tr>\n      <th>mean</th>\n      <td>0.537221</td>\n      <td>0.667557</td>\n    </tr>\n    <tr>\n      <th>std</th>\n      <td>0.289996</td>\n      <td>0.316056</td>\n    </tr>\n    <tr>\n      <th>min</th>\n      <td>0.186534</td>\n      <td>0.096133</td>\n    </tr>\n    <tr>\n      <th>25%</th>\n      <td>0.364553</td>\n      <td>0.566144</td>\n    </tr>\n    <tr>\n      <th>50%</th>\n      <td>0.410992</td>\n      <td>0.754065</td>\n    </tr>\n    <tr>\n      <th>75%</th>\n      <td>0.744170</td>\n      <td>0.897564</td>\n    </tr>\n    <tr>\n      <th>max</th>\n      <td>0.956707</td>\n      <td>0.973473</td>\n    </tr>\n  </tbody>\n</table>\n</div>"
     },
     "execution_count": 48,
     "metadata": {},
     "output_type": "execute_result"
    }
   ],
   "source": [
    "# 统计概览\n",
    "dataframe5.describe()"
   ],
   "metadata": {
    "collapsed": false,
    "pycharm": {
     "name": "#%%\n"
    }
   }
  },
  {
   "cell_type": "code",
   "execution_count": 49,
   "outputs": [
    {
     "data": {
      "text/plain": "              x         y\ncount  8.000000  8.000000\nmean   0.537221  0.667557\nstd    0.289996  0.316056\nmin    0.186534  0.096133\n23%    0.358442  0.513730\n25%    0.364553  0.566144\n50%    0.410992  0.754065\nmax    0.956707  0.973473",
      "text/html": "<div>\n<style scoped>\n    .dataframe tbody tr th:only-of-type {\n        vertical-align: middle;\n    }\n\n    .dataframe tbody tr th {\n        vertical-align: top;\n    }\n\n    .dataframe thead th {\n        text-align: right;\n    }\n</style>\n<table border=\"1\" class=\"dataframe\">\n  <thead>\n    <tr style=\"text-align: right;\">\n      <th></th>\n      <th>x</th>\n      <th>y</th>\n    </tr>\n  </thead>\n  <tbody>\n    <tr>\n      <th>count</th>\n      <td>8.000000</td>\n      <td>8.000000</td>\n    </tr>\n    <tr>\n      <th>mean</th>\n      <td>0.537221</td>\n      <td>0.667557</td>\n    </tr>\n    <tr>\n      <th>std</th>\n      <td>0.289996</td>\n      <td>0.316056</td>\n    </tr>\n    <tr>\n      <th>min</th>\n      <td>0.186534</td>\n      <td>0.096133</td>\n    </tr>\n    <tr>\n      <th>23%</th>\n      <td>0.358442</td>\n      <td>0.513730</td>\n    </tr>\n    <tr>\n      <th>25%</th>\n      <td>0.364553</td>\n      <td>0.566144</td>\n    </tr>\n    <tr>\n      <th>50%</th>\n      <td>0.410992</td>\n      <td>0.754065</td>\n    </tr>\n    <tr>\n      <th>max</th>\n      <td>0.956707</td>\n      <td>0.973473</td>\n    </tr>\n  </tbody>\n</table>\n</div>"
     },
     "execution_count": 49,
     "metadata": {},
     "output_type": "execute_result"
    }
   ],
   "source": [
    "## Case 1 percentiles 参数获取分位数\n",
    "dataframe5.describe(percentiles=[0.23, 0.25])"
   ],
   "metadata": {
    "collapsed": false,
    "pycharm": {
     "name": "#%%\n"
    }
   }
  },
  {
   "cell_type": "code",
   "execution_count": 50,
   "outputs": [
    {
     "data": {
      "text/plain": "point0    0.163963\npoint1    0.069058\npoint2    0.031621\npoint3    0.287479\npoint4    0.047840\npoint5    0.277923\npoint6    0.045201\npoint7    0.109983\ndtype: float64"
     },
     "execution_count": 50,
     "metadata": {},
     "output_type": "execute_result"
    }
   ],
   "source": [
    "# apply\n",
    "## Case 1\n",
    "dataframe5.apply(np.std, axis=1)"
   ],
   "metadata": {
    "collapsed": false,
    "pycharm": {
     "name": "#%%\n"
    }
   }
  },
  {
   "cell_type": "code",
   "execution_count": 51,
   "outputs": [
    {
     "data": {
      "text/plain": "x    4.297769\ny    5.340456\ndtype: float64"
     },
     "execution_count": 51,
     "metadata": {},
     "output_type": "execute_result"
    }
   ],
   "source": [
    "## Case 2\n",
    "def mySum(s):\n",
    "    return sum(s)\n",
    "\n",
    "dataframe5.apply(mySum, axis=0)"
   ],
   "metadata": {
    "collapsed": false,
    "pycharm": {
     "name": "#%%\n"
    }
   }
  },
  {
   "cell_type": "code",
   "execution_count": null,
   "outputs": [],
   "source": [],
   "metadata": {
    "collapsed": false,
    "pycharm": {
     "name": "#%%\n"
    }
   }
  }
 ],
 "metadata": {
  "kernelspec": {
   "display_name": "Python 3",
   "language": "python",
   "name": "python3"
  },
  "language_info": {
   "codemirror_mode": {
    "name": "ipython",
    "version": 2
   },
   "file_extension": ".py",
   "mimetype": "text/x-python",
   "name": "python",
   "nbconvert_exporter": "python",
   "pygments_lexer": "ipython2",
   "version": "2.7.6"
  }
 },
 "nbformat": 4,
 "nbformat_minor": 0
}