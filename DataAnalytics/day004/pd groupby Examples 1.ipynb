{
 "cells": [
  {
   "cell_type": "code",
   "execution_count": 1,
   "outputs": [],
   "source": [
    "# @link https://towardsdatascience.com/5-pandas-group-by-tricks-you-should-know-in-python-f53246c92c94\n",
    "import pandas as pd"
   ],
   "metadata": {
    "collapsed": false,
    "pycharm": {
     "name": "#%%\n"
    }
   }
  },
  {
   "cell_type": "code",
   "execution_count": 2,
   "outputs": [
    {
     "data": {
      "text/plain": "               OrderID  Quantity  UnitPrice(USD)         Status   OrderDate  \\\n0  2951110000999929511        92             238  Not Delivered  2021-08-08   \n1  2181910000999921819        61             136  Not Delivered  2021-10-03   \n2  3239110000999932391        67             235  Not Delivered  2021-09-27   \n3  1112610000999911126        33             133    Not Shipped  2021-07-30   \n4  1548310000999915483        13             189  Not Delivered  2021-08-15   \n\n  Product_Category Sales_Manager  Shipping_Cost(USD)  Delivery_Time(Days)  \\\n0       Healthcare         Pablo                  21                 25.0   \n1           Office         Pablo                  34                 14.0   \n2           Office       Kristen                  25                 11.0   \n3          Fashion         Abdul                  34                 24.0   \n4          Fashion        Stella                  24                 19.0   \n\n  Shipping_Address Product_Code  OrderCode  \n0        Singapore       HC-188     444116  \n1               UK        O-555     444772  \n2            Kenya        O-188     444666  \n3              USA        F-555     444007  \n4            Kenya        F-555     444223  ",
      "text/html": "<div>\n<style scoped>\n    .dataframe tbody tr th:only-of-type {\n        vertical-align: middle;\n    }\n\n    .dataframe tbody tr th {\n        vertical-align: top;\n    }\n\n    .dataframe thead th {\n        text-align: right;\n    }\n</style>\n<table border=\"1\" class=\"dataframe\">\n  <thead>\n    <tr style=\"text-align: right;\">\n      <th></th>\n      <th>OrderID</th>\n      <th>Quantity</th>\n      <th>UnitPrice(USD)</th>\n      <th>Status</th>\n      <th>OrderDate</th>\n      <th>Product_Category</th>\n      <th>Sales_Manager</th>\n      <th>Shipping_Cost(USD)</th>\n      <th>Delivery_Time(Days)</th>\n      <th>Shipping_Address</th>\n      <th>Product_Code</th>\n      <th>OrderCode</th>\n    </tr>\n  </thead>\n  <tbody>\n    <tr>\n      <th>0</th>\n      <td>2951110000999929511</td>\n      <td>92</td>\n      <td>238</td>\n      <td>Not Delivered</td>\n      <td>2021-08-08</td>\n      <td>Healthcare</td>\n      <td>Pablo</td>\n      <td>21</td>\n      <td>25.0</td>\n      <td>Singapore</td>\n      <td>HC-188</td>\n      <td>444116</td>\n    </tr>\n    <tr>\n      <th>1</th>\n      <td>2181910000999921819</td>\n      <td>61</td>\n      <td>136</td>\n      <td>Not Delivered</td>\n      <td>2021-10-03</td>\n      <td>Office</td>\n      <td>Pablo</td>\n      <td>34</td>\n      <td>14.0</td>\n      <td>UK</td>\n      <td>O-555</td>\n      <td>444772</td>\n    </tr>\n    <tr>\n      <th>2</th>\n      <td>3239110000999932391</td>\n      <td>67</td>\n      <td>235</td>\n      <td>Not Delivered</td>\n      <td>2021-09-27</td>\n      <td>Office</td>\n      <td>Kristen</td>\n      <td>25</td>\n      <td>11.0</td>\n      <td>Kenya</td>\n      <td>O-188</td>\n      <td>444666</td>\n    </tr>\n    <tr>\n      <th>3</th>\n      <td>1112610000999911126</td>\n      <td>33</td>\n      <td>133</td>\n      <td>Not Shipped</td>\n      <td>2021-07-30</td>\n      <td>Fashion</td>\n      <td>Abdul</td>\n      <td>34</td>\n      <td>24.0</td>\n      <td>USA</td>\n      <td>F-555</td>\n      <td>444007</td>\n    </tr>\n    <tr>\n      <th>4</th>\n      <td>1548310000999915483</td>\n      <td>13</td>\n      <td>189</td>\n      <td>Not Delivered</td>\n      <td>2021-08-15</td>\n      <td>Fashion</td>\n      <td>Stella</td>\n      <td>24</td>\n      <td>19.0</td>\n      <td>Kenya</td>\n      <td>F-555</td>\n      <td>444223</td>\n    </tr>\n  </tbody>\n</table>\n</div>"
     },
     "execution_count": 2,
     "metadata": {},
     "output_type": "execute_result"
    }
   ],
   "source": [
    "df = pd.read_csv('../assets/Dummy_Sales_Data_v1.csv')\n",
    "df.head()"
   ],
   "metadata": {
    "collapsed": false,
    "pycharm": {
     "name": "#%%\n"
    }
   }
  },
  {
   "cell_type": "code",
   "execution_count": 3,
   "outputs": [
    {
     "data": {
      "text/plain": "<pandas.core.groupby.generic.DataFrameGroupBy object at 0x0000027E2A0B3608>"
     },
     "execution_count": 3,
     "metadata": {},
     "output_type": "execute_result"
    }
   ],
   "source": [
    "groupProductCategory = df.groupby('Product_Category')\n",
    "groupProductCategory"
   ],
   "metadata": {
    "collapsed": false,
    "pycharm": {
     "name": "#%%\n"
    }
   }
  },
  {
   "cell_type": "code",
   "execution_count": 4,
   "outputs": [
    {
     "data": {
      "text/plain": "5"
     },
     "execution_count": 4,
     "metadata": {},
     "output_type": "execute_result"
    }
   ],
   "source": [
    "# 取去重后的分类个数\n",
    "df['Product_Category'].nunique()"
   ],
   "metadata": {
    "collapsed": false,
    "pycharm": {
     "name": "#%%\n"
    }
   }
  },
  {
   "cell_type": "code",
   "execution_count": 5,
   "outputs": [
    {
     "data": {
      "text/plain": "5"
     },
     "execution_count": 5,
     "metadata": {},
     "output_type": "execute_result"
    }
   ],
   "source": [
    "# 同上\n",
    "groupProductCategory.ngroups"
   ],
   "metadata": {
    "collapsed": false,
    "pycharm": {
     "name": "#%%\n"
    }
   }
  },
  {
   "cell_type": "code",
   "execution_count": 6,
   "outputs": [
    {
     "data": {
      "text/plain": "Product_Category\nEntertainment    1968\nFashion          1971\nHealthcare       1953\nHome             2060\nOffice           2011\ndtype: int64"
     },
     "execution_count": 6,
     "metadata": {},
     "output_type": "execute_result"
    }
   ],
   "source": [
    "# 各分组大小\n",
    "groupProductCategory.size()"
   ],
   "metadata": {
    "collapsed": false,
    "pycharm": {
     "name": "#%%\n"
    }
   }
  },
  {
   "cell_type": "code",
   "execution_count": 7,
   "outputs": [
    {
     "data": {
      "text/plain": "                  OrderID  Quantity  UnitPrice(USD)  Status  OrderDate  \\\nProduct_Category                                                         \nEntertainment        1968      1968            1968    1968       1968   \nFashion              1971      1971            1971    1971       1971   \nHealthcare           1953      1953            1953    1953       1953   \nHome                 2060      2060            2060    2060       2060   \nOffice               2011      2011            2011    2011       2011   \n\n                  Sales_Manager  Shipping_Cost(USD)  Delivery_Time(Days)  \\\nProduct_Category                                                           \nEntertainment              1968                1968                 1959   \nFashion                    1971                1971                 1963   \nHealthcare                 1953                1953                 1937   \nHome                       2060                2060                 2049   \nOffice                     2011                2011                 2004   \n\n                  Shipping_Address  Product_Code  OrderCode  \nProduct_Category                                             \nEntertainment                 1968          1968       1968  \nFashion                       1971          1971       1971  \nHealthcare                    1953          1953       1953  \nHome                          2060          2060       2060  \nOffice                        2011          2011       2011  ",
      "text/html": "<div>\n<style scoped>\n    .dataframe tbody tr th:only-of-type {\n        vertical-align: middle;\n    }\n\n    .dataframe tbody tr th {\n        vertical-align: top;\n    }\n\n    .dataframe thead th {\n        text-align: right;\n    }\n</style>\n<table border=\"1\" class=\"dataframe\">\n  <thead>\n    <tr style=\"text-align: right;\">\n      <th></th>\n      <th>OrderID</th>\n      <th>Quantity</th>\n      <th>UnitPrice(USD)</th>\n      <th>Status</th>\n      <th>OrderDate</th>\n      <th>Sales_Manager</th>\n      <th>Shipping_Cost(USD)</th>\n      <th>Delivery_Time(Days)</th>\n      <th>Shipping_Address</th>\n      <th>Product_Code</th>\n      <th>OrderCode</th>\n    </tr>\n    <tr>\n      <th>Product_Category</th>\n      <th></th>\n      <th></th>\n      <th></th>\n      <th></th>\n      <th></th>\n      <th></th>\n      <th></th>\n      <th></th>\n      <th></th>\n      <th></th>\n      <th></th>\n    </tr>\n  </thead>\n  <tbody>\n    <tr>\n      <th>Entertainment</th>\n      <td>1968</td>\n      <td>1968</td>\n      <td>1968</td>\n      <td>1968</td>\n      <td>1968</td>\n      <td>1968</td>\n      <td>1968</td>\n      <td>1959</td>\n      <td>1968</td>\n      <td>1968</td>\n      <td>1968</td>\n    </tr>\n    <tr>\n      <th>Fashion</th>\n      <td>1971</td>\n      <td>1971</td>\n      <td>1971</td>\n      <td>1971</td>\n      <td>1971</td>\n      <td>1971</td>\n      <td>1971</td>\n      <td>1963</td>\n      <td>1971</td>\n      <td>1971</td>\n      <td>1971</td>\n    </tr>\n    <tr>\n      <th>Healthcare</th>\n      <td>1953</td>\n      <td>1953</td>\n      <td>1953</td>\n      <td>1953</td>\n      <td>1953</td>\n      <td>1953</td>\n      <td>1953</td>\n      <td>1937</td>\n      <td>1953</td>\n      <td>1953</td>\n      <td>1953</td>\n    </tr>\n    <tr>\n      <th>Home</th>\n      <td>2060</td>\n      <td>2060</td>\n      <td>2060</td>\n      <td>2060</td>\n      <td>2060</td>\n      <td>2060</td>\n      <td>2060</td>\n      <td>2049</td>\n      <td>2060</td>\n      <td>2060</td>\n      <td>2060</td>\n    </tr>\n    <tr>\n      <th>Office</th>\n      <td>2011</td>\n      <td>2011</td>\n      <td>2011</td>\n      <td>2011</td>\n      <td>2011</td>\n      <td>2011</td>\n      <td>2011</td>\n      <td>2004</td>\n      <td>2011</td>\n      <td>2011</td>\n      <td>2011</td>\n    </tr>\n  </tbody>\n</table>\n</div>"
     },
     "execution_count": 7,
     "metadata": {},
     "output_type": "execute_result"
    }
   ],
   "source": [
    "groupProductCategory.count()"
   ],
   "metadata": {
    "collapsed": false,
    "pycharm": {
     "name": "#%%\n"
    }
   }
  },
  {
   "cell_type": "code",
   "execution_count": 8,
   "outputs": [
    {
     "data": {
      "text/plain": "                              OrderID  Quantity  UnitPrice(USD)  \\\nProduct_Category                                                  \nEntertainment     4934810000999949348        51             204   \nFashion           1112610000999911126        33             133   \nHealthcare        2951110000999929511        92             238   \nHome              4337210000999943372        57             226   \nOffice            2181910000999921819        61             136   \n\n                         Status   OrderDate Sales_Manager  Shipping_Cost(USD)  \\\nProduct_Category                                                                \nEntertainment     Not Delivered  2021-11-13         Abdul                  32   \nFashion             Not Shipped  2021-07-30         Abdul                  34   \nHealthcare        Not Delivered  2021-08-08         Pablo                  21   \nHome                Not Shipped  2021-09-27          John                  24   \nOffice            Not Delivered  2021-10-03         Pablo                  34   \n\n                  Delivery_Time(Days) Shipping_Address Product_Code  OrderCode  \nProduct_Category                                                                \nEntertainment                    18.0               UK      ENT-188     445113  \nFashion                          24.0              USA        F-555     444007  \nHealthcare                       25.0        Singapore       HC-188     444116  \nHome                             14.0               UK        H-555     444666  \nOffice                           14.0               UK        O-555     444772  ",
      "text/html": "<div>\n<style scoped>\n    .dataframe tbody tr th:only-of-type {\n        vertical-align: middle;\n    }\n\n    .dataframe tbody tr th {\n        vertical-align: top;\n    }\n\n    .dataframe thead th {\n        text-align: right;\n    }\n</style>\n<table border=\"1\" class=\"dataframe\">\n  <thead>\n    <tr style=\"text-align: right;\">\n      <th></th>\n      <th>OrderID</th>\n      <th>Quantity</th>\n      <th>UnitPrice(USD)</th>\n      <th>Status</th>\n      <th>OrderDate</th>\n      <th>Sales_Manager</th>\n      <th>Shipping_Cost(USD)</th>\n      <th>Delivery_Time(Days)</th>\n      <th>Shipping_Address</th>\n      <th>Product_Code</th>\n      <th>OrderCode</th>\n    </tr>\n    <tr>\n      <th>Product_Category</th>\n      <th></th>\n      <th></th>\n      <th></th>\n      <th></th>\n      <th></th>\n      <th></th>\n      <th></th>\n      <th></th>\n      <th></th>\n      <th></th>\n      <th></th>\n    </tr>\n  </thead>\n  <tbody>\n    <tr>\n      <th>Entertainment</th>\n      <td>4934810000999949348</td>\n      <td>51</td>\n      <td>204</td>\n      <td>Not Delivered</td>\n      <td>2021-11-13</td>\n      <td>Abdul</td>\n      <td>32</td>\n      <td>18.0</td>\n      <td>UK</td>\n      <td>ENT-188</td>\n      <td>445113</td>\n    </tr>\n    <tr>\n      <th>Fashion</th>\n      <td>1112610000999911126</td>\n      <td>33</td>\n      <td>133</td>\n      <td>Not Shipped</td>\n      <td>2021-07-30</td>\n      <td>Abdul</td>\n      <td>34</td>\n      <td>24.0</td>\n      <td>USA</td>\n      <td>F-555</td>\n      <td>444007</td>\n    </tr>\n    <tr>\n      <th>Healthcare</th>\n      <td>2951110000999929511</td>\n      <td>92</td>\n      <td>238</td>\n      <td>Not Delivered</td>\n      <td>2021-08-08</td>\n      <td>Pablo</td>\n      <td>21</td>\n      <td>25.0</td>\n      <td>Singapore</td>\n      <td>HC-188</td>\n      <td>444116</td>\n    </tr>\n    <tr>\n      <th>Home</th>\n      <td>4337210000999943372</td>\n      <td>57</td>\n      <td>226</td>\n      <td>Not Shipped</td>\n      <td>2021-09-27</td>\n      <td>John</td>\n      <td>24</td>\n      <td>14.0</td>\n      <td>UK</td>\n      <td>H-555</td>\n      <td>444666</td>\n    </tr>\n    <tr>\n      <th>Office</th>\n      <td>2181910000999921819</td>\n      <td>61</td>\n      <td>136</td>\n      <td>Not Delivered</td>\n      <td>2021-10-03</td>\n      <td>Pablo</td>\n      <td>34</td>\n      <td>14.0</td>\n      <td>UK</td>\n      <td>O-555</td>\n      <td>444772</td>\n    </tr>\n  </tbody>\n</table>\n</div>"
     },
     "execution_count": 8,
     "metadata": {},
     "output_type": "execute_result"
    }
   ],
   "source": [
    "groupProductCategory.first()"
   ],
   "metadata": {
    "collapsed": false,
    "pycharm": {
     "name": "#%%\n"
    }
   }
  },
  {
   "cell_type": "code",
   "execution_count": 10,
   "outputs": [
    {
     "data": {
      "text/plain": "                              OrderID  Quantity  UnitPrice(USD)  \\\nProduct_Category                                                  \nEntertainment     1468010000999914680        53             229   \nFashion           2281610000999922816        18             117   \nHealthcare        1847410000999918474        37             135   \nHome              2301610000999923016        75             201   \nOffice            2385710000999923857        81             207   \n\n                         Status   OrderDate Sales_Manager  Shipping_Cost(USD)  \\\nProduct_Category                                                                \nEntertainment         Delivered  2021-07-12       Anthony                  25   \nFashion                 Shipped  2021-12-23        Stella                  22   \nHealthcare              Shipped  2021-10-03         Maria                  30   \nHome              Not Delivered  2021-10-16         Sofia                  20   \nOffice                Delivered  2021-11-13          Emma                  29   \n\n                  Delivery_Time(Days) Shipping_Address Product_Code  OrderCode  \nProduct_Category                                                                \nEntertainment                    12.0        Singapore      ENT-630     443889  \nFashion                          24.0            Italy        F-101     445553  \nHealthcare                       23.0            China       HC-901     444772  \nHome                             14.0            Kenya        H-555     444885  \nOffice                           18.0              USA        O-203     445113  ",
      "text/html": "<div>\n<style scoped>\n    .dataframe tbody tr th:only-of-type {\n        vertical-align: middle;\n    }\n\n    .dataframe tbody tr th {\n        vertical-align: top;\n    }\n\n    .dataframe thead th {\n        text-align: right;\n    }\n</style>\n<table border=\"1\" class=\"dataframe\">\n  <thead>\n    <tr style=\"text-align: right;\">\n      <th></th>\n      <th>OrderID</th>\n      <th>Quantity</th>\n      <th>UnitPrice(USD)</th>\n      <th>Status</th>\n      <th>OrderDate</th>\n      <th>Sales_Manager</th>\n      <th>Shipping_Cost(USD)</th>\n      <th>Delivery_Time(Days)</th>\n      <th>Shipping_Address</th>\n      <th>Product_Code</th>\n      <th>OrderCode</th>\n    </tr>\n    <tr>\n      <th>Product_Category</th>\n      <th></th>\n      <th></th>\n      <th></th>\n      <th></th>\n      <th></th>\n      <th></th>\n      <th></th>\n      <th></th>\n      <th></th>\n      <th></th>\n      <th></th>\n    </tr>\n  </thead>\n  <tbody>\n    <tr>\n      <th>Entertainment</th>\n      <td>1468010000999914680</td>\n      <td>53</td>\n      <td>229</td>\n      <td>Delivered</td>\n      <td>2021-07-12</td>\n      <td>Anthony</td>\n      <td>25</td>\n      <td>12.0</td>\n      <td>Singapore</td>\n      <td>ENT-630</td>\n      <td>443889</td>\n    </tr>\n    <tr>\n      <th>Fashion</th>\n      <td>2281610000999922816</td>\n      <td>18</td>\n      <td>117</td>\n      <td>Shipped</td>\n      <td>2021-12-23</td>\n      <td>Stella</td>\n      <td>22</td>\n      <td>24.0</td>\n      <td>Italy</td>\n      <td>F-101</td>\n      <td>445553</td>\n    </tr>\n    <tr>\n      <th>Healthcare</th>\n      <td>1847410000999918474</td>\n      <td>37</td>\n      <td>135</td>\n      <td>Shipped</td>\n      <td>2021-10-03</td>\n      <td>Maria</td>\n      <td>30</td>\n      <td>23.0</td>\n      <td>China</td>\n      <td>HC-901</td>\n      <td>444772</td>\n    </tr>\n    <tr>\n      <th>Home</th>\n      <td>2301610000999923016</td>\n      <td>75</td>\n      <td>201</td>\n      <td>Not Delivered</td>\n      <td>2021-10-16</td>\n      <td>Sofia</td>\n      <td>20</td>\n      <td>14.0</td>\n      <td>Kenya</td>\n      <td>H-555</td>\n      <td>444885</td>\n    </tr>\n    <tr>\n      <th>Office</th>\n      <td>2385710000999923857</td>\n      <td>81</td>\n      <td>207</td>\n      <td>Delivered</td>\n      <td>2021-11-13</td>\n      <td>Emma</td>\n      <td>29</td>\n      <td>18.0</td>\n      <td>USA</td>\n      <td>O-203</td>\n      <td>445113</td>\n    </tr>\n  </tbody>\n</table>\n</div>"
     },
     "execution_count": 10,
     "metadata": {},
     "output_type": "execute_result"
    }
   ],
   "source": [
    "groupProductCategory.last()"
   ],
   "metadata": {
    "collapsed": false,
    "pycharm": {
     "name": "#%%\n"
    }
   }
  },
  {
   "cell_type": "code",
   "execution_count": 11,
   "outputs": [
    {
     "data": {
      "text/plain": "                              OrderID  Quantity  UnitPrice(USD)  \\\nProduct_Category                                                  \nEntertainment     4030410000999940304        21             123   \nFashion           2804110000999928041        31             163   \nHealthcare        4276410000999942764        83             224   \nHome              3105110000999931051        79             213   \nOffice            1444810000999914448         5             119   \n\n                         Status   OrderDate Sales_Manager  Shipping_Cost(USD)  \\\nProduct_Category                                                                \nEntertainment     Not Delivered  2021-10-10       Kristen                  30   \nFashion             Not Shipped  2021-12-23         Abdul                  34   \nHealthcare        Not Delivered  2021-07-10         Sofia                  24   \nHome                  Delivered  2021-10-26         Abdul                  27   \nOffice              Not Shipped  2021-10-13        Stella                  33   \n\n                  Delivery_Time(Days) Shipping_Address Product_Code  OrderCode  \nProduct_Category                                                                \nEntertainment                    15.0            India      ENT-188     444779  \nFashion                          16.0            Kenya        F-901     445553  \nHealthcare                       24.0            Kenya       HC-203     443887  \nHome                             14.0            China        H-203     444995  \nOffice                           20.0            India        O-555     444882  ",
      "text/html": "<div>\n<style scoped>\n    .dataframe tbody tr th:only-of-type {\n        vertical-align: middle;\n    }\n\n    .dataframe tbody tr th {\n        vertical-align: top;\n    }\n\n    .dataframe thead th {\n        text-align: right;\n    }\n</style>\n<table border=\"1\" class=\"dataframe\">\n  <thead>\n    <tr style=\"text-align: right;\">\n      <th></th>\n      <th>OrderID</th>\n      <th>Quantity</th>\n      <th>UnitPrice(USD)</th>\n      <th>Status</th>\n      <th>OrderDate</th>\n      <th>Sales_Manager</th>\n      <th>Shipping_Cost(USD)</th>\n      <th>Delivery_Time(Days)</th>\n      <th>Shipping_Address</th>\n      <th>Product_Code</th>\n      <th>OrderCode</th>\n    </tr>\n    <tr>\n      <th>Product_Category</th>\n      <th></th>\n      <th></th>\n      <th></th>\n      <th></th>\n      <th></th>\n      <th></th>\n      <th></th>\n      <th></th>\n      <th></th>\n      <th></th>\n      <th></th>\n    </tr>\n  </thead>\n  <tbody>\n    <tr>\n      <th>Entertainment</th>\n      <td>4030410000999940304</td>\n      <td>21</td>\n      <td>123</td>\n      <td>Not Delivered</td>\n      <td>2021-10-10</td>\n      <td>Kristen</td>\n      <td>30</td>\n      <td>15.0</td>\n      <td>India</td>\n      <td>ENT-188</td>\n      <td>444779</td>\n    </tr>\n    <tr>\n      <th>Fashion</th>\n      <td>2804110000999928041</td>\n      <td>31</td>\n      <td>163</td>\n      <td>Not Shipped</td>\n      <td>2021-12-23</td>\n      <td>Abdul</td>\n      <td>34</td>\n      <td>16.0</td>\n      <td>Kenya</td>\n      <td>F-901</td>\n      <td>445553</td>\n    </tr>\n    <tr>\n      <th>Healthcare</th>\n      <td>4276410000999942764</td>\n      <td>83</td>\n      <td>224</td>\n      <td>Not Delivered</td>\n      <td>2021-07-10</td>\n      <td>Sofia</td>\n      <td>24</td>\n      <td>24.0</td>\n      <td>Kenya</td>\n      <td>HC-203</td>\n      <td>443887</td>\n    </tr>\n    <tr>\n      <th>Home</th>\n      <td>3105110000999931051</td>\n      <td>79</td>\n      <td>213</td>\n      <td>Delivered</td>\n      <td>2021-10-26</td>\n      <td>Abdul</td>\n      <td>27</td>\n      <td>14.0</td>\n      <td>China</td>\n      <td>H-203</td>\n      <td>444995</td>\n    </tr>\n    <tr>\n      <th>Office</th>\n      <td>1444810000999914448</td>\n      <td>5</td>\n      <td>119</td>\n      <td>Not Shipped</td>\n      <td>2021-10-13</td>\n      <td>Stella</td>\n      <td>33</td>\n      <td>20.0</td>\n      <td>India</td>\n      <td>O-555</td>\n      <td>444882</td>\n    </tr>\n  </tbody>\n</table>\n</div>"
     },
     "execution_count": 11,
     "metadata": {},
     "output_type": "execute_result"
    }
   ],
   "source": [
    "groupProductCategory.nth(3)"
   ],
   "metadata": {
    "collapsed": false,
    "pycharm": {
     "name": "#%%\n"
    }
   }
  },
  {
   "cell_type": "code",
   "execution_count": 13,
   "outputs": [
    {
     "data": {
      "text/plain": "                  OrderID  Quantity  UnitPrice(USD)         Status  \\\n0     2951110000999929511        92             238  Not Delivered   \n6     2750410000999927504        73             242  Not Delivered   \n14    2559910000999925599        55             233  Not Delivered   \n19    4276410000999942764        83             224  Not Delivered   \n22    2111510000999921115        74             250      Delivered   \n...                   ...       ...             ...            ...   \n9981  4904910000999949049        73             209        Shipped   \n9983  4107210000999941072        57             162  Not Delivered   \n9986  1868610000999918686        30             162  Not Delivered   \n9988  4264110000999942641         4             187  Not Delivered   \n9995  1847410000999918474        37             135        Shipped   \n\n       OrderDate Product_Category Sales_Manager  Shipping_Cost(USD)  \\\n0     2021-08-08       Healthcare         Pablo                  21   \n6     2021-07-08       Healthcare          Emma                  34   \n14    2021-07-15       Healthcare       Kristen                  25   \n19    2021-07-10       Healthcare         Sofia                  24   \n22    2021-12-08       Healthcare         Maria                  25   \n...          ...              ...           ...                 ...   \n9981  2021-08-20       Healthcare         Sofia                  33   \n9983  2021-08-26       Healthcare         Abdul                  23   \n9986  2021-12-12       Healthcare         Pablo                  35   \n9988  2021-11-20       Healthcare         Maria                  34   \n9995  2021-10-03       Healthcare         Maria                  30   \n\n      Delivery_Time(Days) Shipping_Address Product_Code  OrderCode  \n0                    25.0        Singapore       HC-188     444116  \n6                    10.0               UK       HC-555     443885  \n14                   18.0            India       HC-555     443992  \n19                   24.0            Kenya       HC-203     443887  \n22                   21.0            Italy       HC-901     445338  \n...                   ...              ...          ...        ...  \n9981                 12.0               UK       HC-203     444228  \n9983                 21.0            India       HC-188     444334  \n9986                 11.0            Italy       HC-630     445442  \n9988                 15.0               UK       HC-203     445220  \n9995                 23.0            China       HC-901     444772  \n\n[1953 rows x 12 columns]",
      "text/html": "<div>\n<style scoped>\n    .dataframe tbody tr th:only-of-type {\n        vertical-align: middle;\n    }\n\n    .dataframe tbody tr th {\n        vertical-align: top;\n    }\n\n    .dataframe thead th {\n        text-align: right;\n    }\n</style>\n<table border=\"1\" class=\"dataframe\">\n  <thead>\n    <tr style=\"text-align: right;\">\n      <th></th>\n      <th>OrderID</th>\n      <th>Quantity</th>\n      <th>UnitPrice(USD)</th>\n      <th>Status</th>\n      <th>OrderDate</th>\n      <th>Product_Category</th>\n      <th>Sales_Manager</th>\n      <th>Shipping_Cost(USD)</th>\n      <th>Delivery_Time(Days)</th>\n      <th>Shipping_Address</th>\n      <th>Product_Code</th>\n      <th>OrderCode</th>\n    </tr>\n  </thead>\n  <tbody>\n    <tr>\n      <th>0</th>\n      <td>2951110000999929511</td>\n      <td>92</td>\n      <td>238</td>\n      <td>Not Delivered</td>\n      <td>2021-08-08</td>\n      <td>Healthcare</td>\n      <td>Pablo</td>\n      <td>21</td>\n      <td>25.0</td>\n      <td>Singapore</td>\n      <td>HC-188</td>\n      <td>444116</td>\n    </tr>\n    <tr>\n      <th>6</th>\n      <td>2750410000999927504</td>\n      <td>73</td>\n      <td>242</td>\n      <td>Not Delivered</td>\n      <td>2021-07-08</td>\n      <td>Healthcare</td>\n      <td>Emma</td>\n      <td>34</td>\n      <td>10.0</td>\n      <td>UK</td>\n      <td>HC-555</td>\n      <td>443885</td>\n    </tr>\n    <tr>\n      <th>14</th>\n      <td>2559910000999925599</td>\n      <td>55</td>\n      <td>233</td>\n      <td>Not Delivered</td>\n      <td>2021-07-15</td>\n      <td>Healthcare</td>\n      <td>Kristen</td>\n      <td>25</td>\n      <td>18.0</td>\n      <td>India</td>\n      <td>HC-555</td>\n      <td>443992</td>\n    </tr>\n    <tr>\n      <th>19</th>\n      <td>4276410000999942764</td>\n      <td>83</td>\n      <td>224</td>\n      <td>Not Delivered</td>\n      <td>2021-07-10</td>\n      <td>Healthcare</td>\n      <td>Sofia</td>\n      <td>24</td>\n      <td>24.0</td>\n      <td>Kenya</td>\n      <td>HC-203</td>\n      <td>443887</td>\n    </tr>\n    <tr>\n      <th>22</th>\n      <td>2111510000999921115</td>\n      <td>74</td>\n      <td>250</td>\n      <td>Delivered</td>\n      <td>2021-12-08</td>\n      <td>Healthcare</td>\n      <td>Maria</td>\n      <td>25</td>\n      <td>21.0</td>\n      <td>Italy</td>\n      <td>HC-901</td>\n      <td>445338</td>\n    </tr>\n    <tr>\n      <th>...</th>\n      <td>...</td>\n      <td>...</td>\n      <td>...</td>\n      <td>...</td>\n      <td>...</td>\n      <td>...</td>\n      <td>...</td>\n      <td>...</td>\n      <td>...</td>\n      <td>...</td>\n      <td>...</td>\n      <td>...</td>\n    </tr>\n    <tr>\n      <th>9981</th>\n      <td>4904910000999949049</td>\n      <td>73</td>\n      <td>209</td>\n      <td>Shipped</td>\n      <td>2021-08-20</td>\n      <td>Healthcare</td>\n      <td>Sofia</td>\n      <td>33</td>\n      <td>12.0</td>\n      <td>UK</td>\n      <td>HC-203</td>\n      <td>444228</td>\n    </tr>\n    <tr>\n      <th>9983</th>\n      <td>4107210000999941072</td>\n      <td>57</td>\n      <td>162</td>\n      <td>Not Delivered</td>\n      <td>2021-08-26</td>\n      <td>Healthcare</td>\n      <td>Abdul</td>\n      <td>23</td>\n      <td>21.0</td>\n      <td>India</td>\n      <td>HC-188</td>\n      <td>444334</td>\n    </tr>\n    <tr>\n      <th>9986</th>\n      <td>1868610000999918686</td>\n      <td>30</td>\n      <td>162</td>\n      <td>Not Delivered</td>\n      <td>2021-12-12</td>\n      <td>Healthcare</td>\n      <td>Pablo</td>\n      <td>35</td>\n      <td>11.0</td>\n      <td>Italy</td>\n      <td>HC-630</td>\n      <td>445442</td>\n    </tr>\n    <tr>\n      <th>9988</th>\n      <td>4264110000999942641</td>\n      <td>4</td>\n      <td>187</td>\n      <td>Not Delivered</td>\n      <td>2021-11-20</td>\n      <td>Healthcare</td>\n      <td>Maria</td>\n      <td>34</td>\n      <td>15.0</td>\n      <td>UK</td>\n      <td>HC-203</td>\n      <td>445220</td>\n    </tr>\n    <tr>\n      <th>9995</th>\n      <td>1847410000999918474</td>\n      <td>37</td>\n      <td>135</td>\n      <td>Shipped</td>\n      <td>2021-10-03</td>\n      <td>Healthcare</td>\n      <td>Maria</td>\n      <td>30</td>\n      <td>23.0</td>\n      <td>China</td>\n      <td>HC-901</td>\n      <td>444772</td>\n    </tr>\n  </tbody>\n</table>\n<p>1953 rows × 12 columns</p>\n</div>"
     },
     "execution_count": 13,
     "metadata": {},
     "output_type": "execute_result"
    }
   ],
   "source": [
    "# 取一个分组的所有记录\n",
    "groupProductCategory.get_group('Healthcare')"
   ],
   "metadata": {
    "collapsed": false,
    "pycharm": {
     "name": "#%%\n"
    }
   }
  },
  {
   "cell_type": "code",
   "execution_count": 14,
   "outputs": [
    {
     "data": {
      "text/plain": "                  OrderID  Quantity  UnitPrice(USD)         Status  \\\n10    4337210000999943372        57             226    Not Shipped   \n13    4583610000999945836        46             208    Not Shipped   \n16    2808810000999928088        96             115      Delivered   \n18    3105110000999931051        79             213      Delivered   \n26    2958410000999929584        53             141        Shipped   \n...                   ...       ...             ...            ...   \n9975  3001610000999930016        80             174      Delivered   \n9977  3374310000999933743        37             156      Delivered   \n9980  1019210000999910192        37             159      Delivered   \n9982  3848110000999938481        13             108        Shipped   \n9994  2301610000999923016        75             201  Not Delivered   \n\n       OrderDate Product_Category Sales_Manager  Shipping_Cost(USD)  \\\n10    2021-09-27             Home          John                  24   \n13    2021-07-28             Home         Jacob                  29   \n16    2021-10-17             Home         Jacob                  30   \n18    2021-10-26             Home         Abdul                  27   \n26    2021-10-29             Home         Pablo                  34   \n...          ...              ...           ...                 ...   \n9975  2021-08-30             Home         Maria                  33   \n9977  2021-08-28             Home         Maria                  23   \n9980  2021-10-26             Home         Jacob                  29   \n9982  2021-07-03             Home         Sofia                  32   \n9994  2021-10-16             Home         Sofia                  20   \n\n      Delivery_Time(Days) Shipping_Address Product_Code  OrderCode  \n10                   14.0               UK        H-555     444666  \n13                   19.0               UK        H-188     444005  \n16                   25.0            Kenya        H-901     444886  \n18                   14.0            China        H-203     444995  \n26                   18.0            Italy        H-203     444998  \n...                   ...              ...          ...        ...  \n9975                 25.0            China        H-188     444338  \n9977                 18.0        Singapore        H-188     444336  \n9980                 12.0            India        H-555     444995  \n9982                 18.0          Germany        H-555     443880  \n9994                 14.0            Kenya        H-555     444885  \n\n[2060 rows x 12 columns]",
      "text/html": "<div>\n<style scoped>\n    .dataframe tbody tr th:only-of-type {\n        vertical-align: middle;\n    }\n\n    .dataframe tbody tr th {\n        vertical-align: top;\n    }\n\n    .dataframe thead th {\n        text-align: right;\n    }\n</style>\n<table border=\"1\" class=\"dataframe\">\n  <thead>\n    <tr style=\"text-align: right;\">\n      <th></th>\n      <th>OrderID</th>\n      <th>Quantity</th>\n      <th>UnitPrice(USD)</th>\n      <th>Status</th>\n      <th>OrderDate</th>\n      <th>Product_Category</th>\n      <th>Sales_Manager</th>\n      <th>Shipping_Cost(USD)</th>\n      <th>Delivery_Time(Days)</th>\n      <th>Shipping_Address</th>\n      <th>Product_Code</th>\n      <th>OrderCode</th>\n    </tr>\n  </thead>\n  <tbody>\n    <tr>\n      <th>10</th>\n      <td>4337210000999943372</td>\n      <td>57</td>\n      <td>226</td>\n      <td>Not Shipped</td>\n      <td>2021-09-27</td>\n      <td>Home</td>\n      <td>John</td>\n      <td>24</td>\n      <td>14.0</td>\n      <td>UK</td>\n      <td>H-555</td>\n      <td>444666</td>\n    </tr>\n    <tr>\n      <th>13</th>\n      <td>4583610000999945836</td>\n      <td>46</td>\n      <td>208</td>\n      <td>Not Shipped</td>\n      <td>2021-07-28</td>\n      <td>Home</td>\n      <td>Jacob</td>\n      <td>29</td>\n      <td>19.0</td>\n      <td>UK</td>\n      <td>H-188</td>\n      <td>444005</td>\n    </tr>\n    <tr>\n      <th>16</th>\n      <td>2808810000999928088</td>\n      <td>96</td>\n      <td>115</td>\n      <td>Delivered</td>\n      <td>2021-10-17</td>\n      <td>Home</td>\n      <td>Jacob</td>\n      <td>30</td>\n      <td>25.0</td>\n      <td>Kenya</td>\n      <td>H-901</td>\n      <td>444886</td>\n    </tr>\n    <tr>\n      <th>18</th>\n      <td>3105110000999931051</td>\n      <td>79</td>\n      <td>213</td>\n      <td>Delivered</td>\n      <td>2021-10-26</td>\n      <td>Home</td>\n      <td>Abdul</td>\n      <td>27</td>\n      <td>14.0</td>\n      <td>China</td>\n      <td>H-203</td>\n      <td>444995</td>\n    </tr>\n    <tr>\n      <th>26</th>\n      <td>2958410000999929584</td>\n      <td>53</td>\n      <td>141</td>\n      <td>Shipped</td>\n      <td>2021-10-29</td>\n      <td>Home</td>\n      <td>Pablo</td>\n      <td>34</td>\n      <td>18.0</td>\n      <td>Italy</td>\n      <td>H-203</td>\n      <td>444998</td>\n    </tr>\n    <tr>\n      <th>...</th>\n      <td>...</td>\n      <td>...</td>\n      <td>...</td>\n      <td>...</td>\n      <td>...</td>\n      <td>...</td>\n      <td>...</td>\n      <td>...</td>\n      <td>...</td>\n      <td>...</td>\n      <td>...</td>\n      <td>...</td>\n    </tr>\n    <tr>\n      <th>9975</th>\n      <td>3001610000999930016</td>\n      <td>80</td>\n      <td>174</td>\n      <td>Delivered</td>\n      <td>2021-08-30</td>\n      <td>Home</td>\n      <td>Maria</td>\n      <td>33</td>\n      <td>25.0</td>\n      <td>China</td>\n      <td>H-188</td>\n      <td>444338</td>\n    </tr>\n    <tr>\n      <th>9977</th>\n      <td>3374310000999933743</td>\n      <td>37</td>\n      <td>156</td>\n      <td>Delivered</td>\n      <td>2021-08-28</td>\n      <td>Home</td>\n      <td>Maria</td>\n      <td>23</td>\n      <td>18.0</td>\n      <td>Singapore</td>\n      <td>H-188</td>\n      <td>444336</td>\n    </tr>\n    <tr>\n      <th>9980</th>\n      <td>1019210000999910192</td>\n      <td>37</td>\n      <td>159</td>\n      <td>Delivered</td>\n      <td>2021-10-26</td>\n      <td>Home</td>\n      <td>Jacob</td>\n      <td>29</td>\n      <td>12.0</td>\n      <td>India</td>\n      <td>H-555</td>\n      <td>444995</td>\n    </tr>\n    <tr>\n      <th>9982</th>\n      <td>3848110000999938481</td>\n      <td>13</td>\n      <td>108</td>\n      <td>Shipped</td>\n      <td>2021-07-03</td>\n      <td>Home</td>\n      <td>Sofia</td>\n      <td>32</td>\n      <td>18.0</td>\n      <td>Germany</td>\n      <td>H-555</td>\n      <td>443880</td>\n    </tr>\n    <tr>\n      <th>9994</th>\n      <td>2301610000999923016</td>\n      <td>75</td>\n      <td>201</td>\n      <td>Not Delivered</td>\n      <td>2021-10-16</td>\n      <td>Home</td>\n      <td>Sofia</td>\n      <td>20</td>\n      <td>14.0</td>\n      <td>Kenya</td>\n      <td>H-555</td>\n      <td>444885</td>\n    </tr>\n  </tbody>\n</table>\n<p>2060 rows × 12 columns</p>\n</div>"
     },
     "execution_count": 14,
     "metadata": {},
     "output_type": "execute_result"
    }
   ],
   "source": [
    "df[df['Product_Category']=='Home']"
   ],
   "metadata": {
    "collapsed": false,
    "pycharm": {
     "name": "#%%\n"
    }
   }
  },
  {
   "cell_type": "code",
   "execution_count": 15,
   "outputs": [
    {
     "data": {
      "text/plain": "                  OrderID  Quantity  UnitPrice(USD)         Status  \\\n10    4337210000999943372        57             226    Not Shipped   \n13    4583610000999945836        46             208    Not Shipped   \n16    2808810000999928088        96             115      Delivered   \n18    3105110000999931051        79             213      Delivered   \n26    2958410000999929584        53             141        Shipped   \n...                   ...       ...             ...            ...   \n9975  3001610000999930016        80             174      Delivered   \n9977  3374310000999933743        37             156      Delivered   \n9980  1019210000999910192        37             159      Delivered   \n9982  3848110000999938481        13             108        Shipped   \n9994  2301610000999923016        75             201  Not Delivered   \n\n       OrderDate Product_Category Sales_Manager  Shipping_Cost(USD)  \\\n10    2021-09-27             Home          John                  24   \n13    2021-07-28             Home         Jacob                  29   \n16    2021-10-17             Home         Jacob                  30   \n18    2021-10-26             Home         Abdul                  27   \n26    2021-10-29             Home         Pablo                  34   \n...          ...              ...           ...                 ...   \n9975  2021-08-30             Home         Maria                  33   \n9977  2021-08-28             Home         Maria                  23   \n9980  2021-10-26             Home         Jacob                  29   \n9982  2021-07-03             Home         Sofia                  32   \n9994  2021-10-16             Home         Sofia                  20   \n\n      Delivery_Time(Days) Shipping_Address Product_Code  OrderCode  \n10                   14.0               UK        H-555     444666  \n13                   19.0               UK        H-188     444005  \n16                   25.0            Kenya        H-901     444886  \n18                   14.0            China        H-203     444995  \n26                   18.0            Italy        H-203     444998  \n...                   ...              ...          ...        ...  \n9975                 25.0            China        H-188     444338  \n9977                 18.0        Singapore        H-188     444336  \n9980                 12.0            India        H-555     444995  \n9982                 18.0          Germany        H-555     443880  \n9994                 14.0            Kenya        H-555     444885  \n\n[2060 rows x 12 columns]",
      "text/html": "<div>\n<style scoped>\n    .dataframe tbody tr th:only-of-type {\n        vertical-align: middle;\n    }\n\n    .dataframe tbody tr th {\n        vertical-align: top;\n    }\n\n    .dataframe thead th {\n        text-align: right;\n    }\n</style>\n<table border=\"1\" class=\"dataframe\">\n  <thead>\n    <tr style=\"text-align: right;\">\n      <th></th>\n      <th>OrderID</th>\n      <th>Quantity</th>\n      <th>UnitPrice(USD)</th>\n      <th>Status</th>\n      <th>OrderDate</th>\n      <th>Product_Category</th>\n      <th>Sales_Manager</th>\n      <th>Shipping_Cost(USD)</th>\n      <th>Delivery_Time(Days)</th>\n      <th>Shipping_Address</th>\n      <th>Product_Code</th>\n      <th>OrderCode</th>\n    </tr>\n  </thead>\n  <tbody>\n    <tr>\n      <th>10</th>\n      <td>4337210000999943372</td>\n      <td>57</td>\n      <td>226</td>\n      <td>Not Shipped</td>\n      <td>2021-09-27</td>\n      <td>Home</td>\n      <td>John</td>\n      <td>24</td>\n      <td>14.0</td>\n      <td>UK</td>\n      <td>H-555</td>\n      <td>444666</td>\n    </tr>\n    <tr>\n      <th>13</th>\n      <td>4583610000999945836</td>\n      <td>46</td>\n      <td>208</td>\n      <td>Not Shipped</td>\n      <td>2021-07-28</td>\n      <td>Home</td>\n      <td>Jacob</td>\n      <td>29</td>\n      <td>19.0</td>\n      <td>UK</td>\n      <td>H-188</td>\n      <td>444005</td>\n    </tr>\n    <tr>\n      <th>16</th>\n      <td>2808810000999928088</td>\n      <td>96</td>\n      <td>115</td>\n      <td>Delivered</td>\n      <td>2021-10-17</td>\n      <td>Home</td>\n      <td>Jacob</td>\n      <td>30</td>\n      <td>25.0</td>\n      <td>Kenya</td>\n      <td>H-901</td>\n      <td>444886</td>\n    </tr>\n    <tr>\n      <th>18</th>\n      <td>3105110000999931051</td>\n      <td>79</td>\n      <td>213</td>\n      <td>Delivered</td>\n      <td>2021-10-26</td>\n      <td>Home</td>\n      <td>Abdul</td>\n      <td>27</td>\n      <td>14.0</td>\n      <td>China</td>\n      <td>H-203</td>\n      <td>444995</td>\n    </tr>\n    <tr>\n      <th>26</th>\n      <td>2958410000999929584</td>\n      <td>53</td>\n      <td>141</td>\n      <td>Shipped</td>\n      <td>2021-10-29</td>\n      <td>Home</td>\n      <td>Pablo</td>\n      <td>34</td>\n      <td>18.0</td>\n      <td>Italy</td>\n      <td>H-203</td>\n      <td>444998</td>\n    </tr>\n    <tr>\n      <th>...</th>\n      <td>...</td>\n      <td>...</td>\n      <td>...</td>\n      <td>...</td>\n      <td>...</td>\n      <td>...</td>\n      <td>...</td>\n      <td>...</td>\n      <td>...</td>\n      <td>...</td>\n      <td>...</td>\n      <td>...</td>\n    </tr>\n    <tr>\n      <th>9975</th>\n      <td>3001610000999930016</td>\n      <td>80</td>\n      <td>174</td>\n      <td>Delivered</td>\n      <td>2021-08-30</td>\n      <td>Home</td>\n      <td>Maria</td>\n      <td>33</td>\n      <td>25.0</td>\n      <td>China</td>\n      <td>H-188</td>\n      <td>444338</td>\n    </tr>\n    <tr>\n      <th>9977</th>\n      <td>3374310000999933743</td>\n      <td>37</td>\n      <td>156</td>\n      <td>Delivered</td>\n      <td>2021-08-28</td>\n      <td>Home</td>\n      <td>Maria</td>\n      <td>23</td>\n      <td>18.0</td>\n      <td>Singapore</td>\n      <td>H-188</td>\n      <td>444336</td>\n    </tr>\n    <tr>\n      <th>9980</th>\n      <td>1019210000999910192</td>\n      <td>37</td>\n      <td>159</td>\n      <td>Delivered</td>\n      <td>2021-10-26</td>\n      <td>Home</td>\n      <td>Jacob</td>\n      <td>29</td>\n      <td>12.0</td>\n      <td>India</td>\n      <td>H-555</td>\n      <td>444995</td>\n    </tr>\n    <tr>\n      <th>9982</th>\n      <td>3848110000999938481</td>\n      <td>13</td>\n      <td>108</td>\n      <td>Shipped</td>\n      <td>2021-07-03</td>\n      <td>Home</td>\n      <td>Sofia</td>\n      <td>32</td>\n      <td>18.0</td>\n      <td>Germany</td>\n      <td>H-555</td>\n      <td>443880</td>\n    </tr>\n    <tr>\n      <th>9994</th>\n      <td>2301610000999923016</td>\n      <td>75</td>\n      <td>201</td>\n      <td>Not Delivered</td>\n      <td>2021-10-16</td>\n      <td>Home</td>\n      <td>Sofia</td>\n      <td>20</td>\n      <td>14.0</td>\n      <td>Kenya</td>\n      <td>H-555</td>\n      <td>444885</td>\n    </tr>\n  </tbody>\n</table>\n<p>2060 rows × 12 columns</p>\n</div>"
     },
     "execution_count": 15,
     "metadata": {},
     "output_type": "execute_result"
    }
   ],
   "source": [
    "groupProductCategory.get_group('Home')"
   ],
   "metadata": {
    "collapsed": false,
    "pycharm": {
     "name": "#%%\n"
    }
   }
  },
  {
   "cell_type": "code",
   "execution_count": 16,
   "outputs": [
    {
     "name": "stdout",
     "output_type": "stream",
     "text": [
      "Entertainment (1968, 12)\n",
      "Fashion (1971, 12)\n",
      "Healthcare (1953, 12)\n",
      "Home (2060, 12)\n",
      "Office (2011, 12)\n"
     ]
    }
   ],
   "source": [
    "for groupName, groupRecords in groupProductCategory:\n",
    "    print(groupName, groupRecords.shape)"
   ],
   "metadata": {
    "collapsed": false,
    "pycharm": {
     "name": "#%%\n"
    }
   }
  },
  {
   "cell_type": "code",
   "execution_count": 20,
   "outputs": [
    {
     "data": {
      "text/plain": "                  UnitPrice(USD)   Quantity\nProduct_Category                           \nEntertainment         176.038618  49.851118\nFashion               176.117199  51.255200\nHealthcare            175.489503  50.905274\nHome                  175.354854  50.705340\nOffice                175.127300  50.913476",
      "text/html": "<div>\n<style scoped>\n    .dataframe tbody tr th:only-of-type {\n        vertical-align: middle;\n    }\n\n    .dataframe tbody tr th {\n        vertical-align: top;\n    }\n\n    .dataframe thead th {\n        text-align: right;\n    }\n</style>\n<table border=\"1\" class=\"dataframe\">\n  <thead>\n    <tr style=\"text-align: right;\">\n      <th></th>\n      <th>UnitPrice(USD)</th>\n      <th>Quantity</th>\n    </tr>\n    <tr>\n      <th>Product_Category</th>\n      <th></th>\n      <th></th>\n    </tr>\n  </thead>\n  <tbody>\n    <tr>\n      <th>Entertainment</th>\n      <td>176.038618</td>\n      <td>49.851118</td>\n    </tr>\n    <tr>\n      <th>Fashion</th>\n      <td>176.117199</td>\n      <td>51.255200</td>\n    </tr>\n    <tr>\n      <th>Healthcare</th>\n      <td>175.489503</td>\n      <td>50.905274</td>\n    </tr>\n    <tr>\n      <th>Home</th>\n      <td>175.354854</td>\n      <td>50.705340</td>\n    </tr>\n    <tr>\n      <th>Office</th>\n      <td>175.127300</td>\n      <td>50.913476</td>\n    </tr>\n  </tbody>\n</table>\n</div>"
     },
     "execution_count": 20,
     "metadata": {},
     "output_type": "execute_result"
    }
   ],
   "source": [
    "df.groupby('Product_Category')[['UnitPrice(USD)', 'Quantity']].mean()"
   ],
   "metadata": {
    "collapsed": false,
    "pycharm": {
     "name": "#%%\n"
    }
   }
  },
  {
   "cell_type": "code",
   "execution_count": 21,
   "outputs": [
    {
     "data": {
      "text/plain": "                  UnitPrice(USD)  Quantity\nProduct_Category                          \nEntertainment                100         1\nFashion                      100         1\nHealthcare                   100         1\nHome                         100         1\nOffice                       100         1",
      "text/html": "<div>\n<style scoped>\n    .dataframe tbody tr th:only-of-type {\n        vertical-align: middle;\n    }\n\n    .dataframe tbody tr th {\n        vertical-align: top;\n    }\n\n    .dataframe thead th {\n        text-align: right;\n    }\n</style>\n<table border=\"1\" class=\"dataframe\">\n  <thead>\n    <tr style=\"text-align: right;\">\n      <th></th>\n      <th>UnitPrice(USD)</th>\n      <th>Quantity</th>\n    </tr>\n    <tr>\n      <th>Product_Category</th>\n      <th></th>\n      <th></th>\n    </tr>\n  </thead>\n  <tbody>\n    <tr>\n      <th>Entertainment</th>\n      <td>100</td>\n      <td>1</td>\n    </tr>\n    <tr>\n      <th>Fashion</th>\n      <td>100</td>\n      <td>1</td>\n    </tr>\n    <tr>\n      <th>Healthcare</th>\n      <td>100</td>\n      <td>1</td>\n    </tr>\n    <tr>\n      <th>Home</th>\n      <td>100</td>\n      <td>1</td>\n    </tr>\n    <tr>\n      <th>Office</th>\n      <td>100</td>\n      <td>1</td>\n    </tr>\n  </tbody>\n</table>\n</div>"
     },
     "execution_count": 21,
     "metadata": {},
     "output_type": "execute_result"
    }
   ],
   "source": [
    "df.groupby('Product_Category')[['UnitPrice(USD)', 'Quantity']].min()"
   ],
   "metadata": {
    "collapsed": false,
    "pycharm": {
     "name": "#%%\n"
    }
   }
  },
  {
   "cell_type": "code",
   "execution_count": 22,
   "outputs": [
    {
     "data": {
      "text/plain": "                 Quantity                        \n                      min  max     sum       mean\nProduct_Category                                 \nEntertainment           1  100   98107  49.851118\nFashion                 1  100  101024  51.255200\nHealthcare              1  100   99418  50.905274\nHome                    1  100  104453  50.705340\nOffice                  1  100  102387  50.913476",
      "text/html": "<div>\n<style scoped>\n    .dataframe tbody tr th:only-of-type {\n        vertical-align: middle;\n    }\n\n    .dataframe tbody tr th {\n        vertical-align: top;\n    }\n\n    .dataframe thead tr th {\n        text-align: left;\n    }\n\n    .dataframe thead tr:last-of-type th {\n        text-align: right;\n    }\n</style>\n<table border=\"1\" class=\"dataframe\">\n  <thead>\n    <tr>\n      <th></th>\n      <th colspan=\"4\" halign=\"left\">Quantity</th>\n    </tr>\n    <tr>\n      <th></th>\n      <th>min</th>\n      <th>max</th>\n      <th>sum</th>\n      <th>mean</th>\n    </tr>\n    <tr>\n      <th>Product_Category</th>\n      <th></th>\n      <th></th>\n      <th></th>\n      <th></th>\n    </tr>\n  </thead>\n  <tbody>\n    <tr>\n      <th>Entertainment</th>\n      <td>1</td>\n      <td>100</td>\n      <td>98107</td>\n      <td>49.851118</td>\n    </tr>\n    <tr>\n      <th>Fashion</th>\n      <td>1</td>\n      <td>100</td>\n      <td>101024</td>\n      <td>51.255200</td>\n    </tr>\n    <tr>\n      <th>Healthcare</th>\n      <td>1</td>\n      <td>100</td>\n      <td>99418</td>\n      <td>50.905274</td>\n    </tr>\n    <tr>\n      <th>Home</th>\n      <td>1</td>\n      <td>100</td>\n      <td>104453</td>\n      <td>50.705340</td>\n    </tr>\n    <tr>\n      <th>Office</th>\n      <td>1</td>\n      <td>100</td>\n      <td>102387</td>\n      <td>50.913476</td>\n    </tr>\n  </tbody>\n</table>\n</div>"
     },
     "execution_count": 22,
     "metadata": {},
     "output_type": "execute_result"
    }
   ],
   "source": [
    "df.groupby('Product_Category')[['Quantity']].aggregate([min, max, sum, 'mean'])"
   ],
   "metadata": {
    "collapsed": false,
    "pycharm": {
     "name": "#%%\n"
    }
   }
  },
  {
   "cell_type": "code",
   "execution_count": 24,
   "outputs": [
    {
     "data": {
      "text/plain": "                 Quantity                                         \n                      min  max     sum       mean        std count\nProduct_Category                                                  \nEntertainment           1  100   98107  49.851118  29.184244  1968\nFashion                 1  100  101024  51.255200  28.687947  1971\nHealthcare              1  100   99418  50.905274  29.265929  1953\nHome                    1  100  104453  50.705340  28.917479  2060\nOffice                  1  100  102387  50.913476  28.983277  2011",
      "text/html": "<div>\n<style scoped>\n    .dataframe tbody tr th:only-of-type {\n        vertical-align: middle;\n    }\n\n    .dataframe tbody tr th {\n        vertical-align: top;\n    }\n\n    .dataframe thead tr th {\n        text-align: left;\n    }\n\n    .dataframe thead tr:last-of-type th {\n        text-align: right;\n    }\n</style>\n<table border=\"1\" class=\"dataframe\">\n  <thead>\n    <tr>\n      <th></th>\n      <th colspan=\"6\" halign=\"left\">Quantity</th>\n    </tr>\n    <tr>\n      <th></th>\n      <th>min</th>\n      <th>max</th>\n      <th>sum</th>\n      <th>mean</th>\n      <th>std</th>\n      <th>count</th>\n    </tr>\n    <tr>\n      <th>Product_Category</th>\n      <th></th>\n      <th></th>\n      <th></th>\n      <th></th>\n      <th></th>\n      <th></th>\n    </tr>\n  </thead>\n  <tbody>\n    <tr>\n      <th>Entertainment</th>\n      <td>1</td>\n      <td>100</td>\n      <td>98107</td>\n      <td>49.851118</td>\n      <td>29.184244</td>\n      <td>1968</td>\n    </tr>\n    <tr>\n      <th>Fashion</th>\n      <td>1</td>\n      <td>100</td>\n      <td>101024</td>\n      <td>51.255200</td>\n      <td>28.687947</td>\n      <td>1971</td>\n    </tr>\n    <tr>\n      <th>Healthcare</th>\n      <td>1</td>\n      <td>100</td>\n      <td>99418</td>\n      <td>50.905274</td>\n      <td>29.265929</td>\n      <td>1953</td>\n    </tr>\n    <tr>\n      <th>Home</th>\n      <td>1</td>\n      <td>100</td>\n      <td>104453</td>\n      <td>50.705340</td>\n      <td>28.917479</td>\n      <td>2060</td>\n    </tr>\n    <tr>\n      <th>Office</th>\n      <td>1</td>\n      <td>100</td>\n      <td>102387</td>\n      <td>50.913476</td>\n      <td>28.983277</td>\n      <td>2011</td>\n    </tr>\n  </tbody>\n</table>\n</div>"
     },
     "execution_count": 24,
     "metadata": {},
     "output_type": "execute_result"
    }
   ],
   "source": [
    "df.groupby('Product_Category')[['Quantity']].aggregate([min, max, sum, 'mean', 'std', 'count'])"
   ],
   "metadata": {
    "collapsed": false,
    "pycharm": {
     "name": "#%%\n"
    }
   }
  },
  {
   "cell_type": "code",
   "execution_count": 29,
   "outputs": [
    {
     "data": {
      "text/plain": "                  min  max     sum       mean        std  count\nProduct_Category                                               \nEntertainment       1  100   98107  49.851118  29.184244   1968\nFashion             1  100  101024  51.255200  28.687947   1971\nHealthcare          1  100   99418  50.905274  29.265929   1953\nHome                1  100  104453  50.705340  28.917479   2060\nOffice              1  100  102387  50.913476  28.983277   2011",
      "text/html": "<div>\n<style scoped>\n    .dataframe tbody tr th:only-of-type {\n        vertical-align: middle;\n    }\n\n    .dataframe tbody tr th {\n        vertical-align: top;\n    }\n\n    .dataframe thead th {\n        text-align: right;\n    }\n</style>\n<table border=\"1\" class=\"dataframe\">\n  <thead>\n    <tr style=\"text-align: right;\">\n      <th></th>\n      <th>min</th>\n      <th>max</th>\n      <th>sum</th>\n      <th>mean</th>\n      <th>std</th>\n      <th>count</th>\n    </tr>\n    <tr>\n      <th>Product_Category</th>\n      <th></th>\n      <th></th>\n      <th></th>\n      <th></th>\n      <th></th>\n      <th></th>\n    </tr>\n  </thead>\n  <tbody>\n    <tr>\n      <th>Entertainment</th>\n      <td>1</td>\n      <td>100</td>\n      <td>98107</td>\n      <td>49.851118</td>\n      <td>29.184244</td>\n      <td>1968</td>\n    </tr>\n    <tr>\n      <th>Fashion</th>\n      <td>1</td>\n      <td>100</td>\n      <td>101024</td>\n      <td>51.255200</td>\n      <td>28.687947</td>\n      <td>1971</td>\n    </tr>\n    <tr>\n      <th>Healthcare</th>\n      <td>1</td>\n      <td>100</td>\n      <td>99418</td>\n      <td>50.905274</td>\n      <td>29.265929</td>\n      <td>1953</td>\n    </tr>\n    <tr>\n      <th>Home</th>\n      <td>1</td>\n      <td>100</td>\n      <td>104453</td>\n      <td>50.705340</td>\n      <td>28.917479</td>\n      <td>2060</td>\n    </tr>\n    <tr>\n      <th>Office</th>\n      <td>1</td>\n      <td>100</td>\n      <td>102387</td>\n      <td>50.913476</td>\n      <td>28.983277</td>\n      <td>2011</td>\n    </tr>\n  </tbody>\n</table>\n</div>"
     },
     "execution_count": 29,
     "metadata": {},
     "output_type": "execute_result"
    }
   ],
   "source": [
    "df.groupby('Product_Category')[['Quantity']].aggregate([min, max, sum, 'mean', 'std', 'count'])['Quantity']"
   ],
   "metadata": {
    "collapsed": false,
    "pycharm": {
     "name": "#%%\n"
    }
   }
  },
  {
   "cell_type": "code",
   "execution_count": 35,
   "outputs": [
    {
     "data": {
      "text/plain": "       UnitPrice(USD)   Quantity\ncount        5.000000   5.000000\nmean       175.600000  50.726082\nstd          1.140175   0.527538\nmin        174.000000  49.851118\n25%        175.000000  50.705340\n50%        176.000000  50.905274\n75%        176.000000  50.913476\nmax        177.000000  51.255200",
      "text/html": "<div>\n<style scoped>\n    .dataframe tbody tr th:only-of-type {\n        vertical-align: middle;\n    }\n\n    .dataframe tbody tr th {\n        vertical-align: top;\n    }\n\n    .dataframe thead th {\n        text-align: right;\n    }\n</style>\n<table border=\"1\" class=\"dataframe\">\n  <thead>\n    <tr style=\"text-align: right;\">\n      <th></th>\n      <th>UnitPrice(USD)</th>\n      <th>Quantity</th>\n    </tr>\n  </thead>\n  <tbody>\n    <tr>\n      <th>count</th>\n      <td>5.000000</td>\n      <td>5.000000</td>\n    </tr>\n    <tr>\n      <th>mean</th>\n      <td>175.600000</td>\n      <td>50.726082</td>\n    </tr>\n    <tr>\n      <th>std</th>\n      <td>1.140175</td>\n      <td>0.527538</td>\n    </tr>\n    <tr>\n      <th>min</th>\n      <td>174.000000</td>\n      <td>49.851118</td>\n    </tr>\n    <tr>\n      <th>25%</th>\n      <td>175.000000</td>\n      <td>50.705340</td>\n    </tr>\n    <tr>\n      <th>50%</th>\n      <td>176.000000</td>\n      <td>50.905274</td>\n    </tr>\n    <tr>\n      <th>75%</th>\n      <td>176.000000</td>\n      <td>50.913476</td>\n    </tr>\n    <tr>\n      <th>max</th>\n      <td>177.000000</td>\n      <td>51.255200</td>\n    </tr>\n  </tbody>\n</table>\n</div>"
     },
     "execution_count": 35,
     "metadata": {},
     "output_type": "execute_result"
    }
   ],
   "source": [
    "df.groupby('Product_Category')[['UnitPrice(USD)', 'Quantity']].aggregate({\n",
    "    'UnitPrice(USD)': 'median',\n",
    "    'Quantity': 'mean',\n",
    "}).describe()"
   ],
   "metadata": {
    "collapsed": false,
    "pycharm": {
     "name": "#%%\n"
    }
   }
  },
  {
   "cell_type": "code",
   "execution_count": null,
   "outputs": [],
   "source": [],
   "metadata": {
    "collapsed": false,
    "pycharm": {
     "name": "#%%\n"
    }
   }
  }
 ],
 "metadata": {
  "kernelspec": {
   "display_name": "Python 3",
   "language": "python",
   "name": "python3"
  },
  "language_info": {
   "codemirror_mode": {
    "name": "ipython",
    "version": 2
   },
   "file_extension": ".py",
   "mimetype": "text/x-python",
   "name": "python",
   "nbconvert_exporter": "python",
   "pygments_lexer": "ipython2",
   "version": "2.7.6"
  }
 },
 "nbformat": 4,
 "nbformat_minor": 0
}