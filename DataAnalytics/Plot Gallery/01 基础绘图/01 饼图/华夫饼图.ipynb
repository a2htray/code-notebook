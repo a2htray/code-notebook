{
 "cells": [
  {
   "cell_type": "code",
   "execution_count": 17,
   "outputs": [],
   "source": [
    "import pandas as pd\n",
    "import numpy as np\n",
    "import matplotlib.pyplot as plt\n"
   ],
   "metadata": {
    "collapsed": false,
    "pycharm": {
     "name": "#%%\n"
    }
   }
  },
  {
   "cell_type": "code",
   "execution_count": 3,
   "outputs": [],
   "source": [
    "# 华夫饼图的介绍：https://vis.zone/graph/waffle-chart/\n",
    "# 用途：展示部分在整体中的占比关系"
   ],
   "metadata": {
    "collapsed": false,
    "pycharm": {
     "name": "#%%\n"
    }
   }
  },
  {
   "cell_type": "code",
   "execution_count": 7,
   "outputs": [
    {
     "data": {
      "text/plain": "'南山区,7630.59\\n福田区,5318.19\\n龙岗区,4496.45\\n宝安区,4421.83\\n龙华区,2828.45\\n罗湖区,2571.67\\n光明区,1285.33\\n坪山区,910.60\\n盐田区,760.49\\n大鹏新区,370.35\\n深汕合作区,70.91'"
     },
     "execution_count": 7,
     "metadata": {},
     "output_type": "execute_result"
    }
   ],
   "source": [
    "rawData = '''南山区,7630.59\n",
    "福田区,5318.19\n",
    "龙岗区,4496.45\n",
    "宝安区,4421.83\n",
    "龙华区,2828.45\n",
    "罗湖区,2571.67\n",
    "光明区,1285.33\n",
    "坪山区,910.60\n",
    "盐田区,760.49\n",
    "大鹏新区,370.35\n",
    "深汕合作区,70.91'''\n",
    "rawData"
   ],
   "metadata": {
    "collapsed": false,
    "pycharm": {
     "name": "#%%\n"
    }
   }
  },
  {
   "cell_type": "code",
   "execution_count": 12,
   "outputs": [],
   "source": [
    "delimiter = ','  # OP1 分隔符\n",
    "rowNum = 5  # OP2 行数\n",
    "columnNum = 12  # OP3 列数\n",
    "width = 12  # OP4 宽度\n",
    "height = 5  # OP5 高度\n",
    "dpi = 128  # OP6 DPI"
   ],
   "metadata": {
    "collapsed": false,
    "pycharm": {
     "name": "#%%\n"
    }
   }
  },
  {
   "cell_type": "code",
   "execution_count": 19,
   "outputs": [
    {
     "data": {
      "text/plain": "南山区      7630.59\n福田区      5318.19\n龙岗区      4496.45\n宝安区      4421.83\n龙华区      2828.45\n罗湖区      2571.67\n光明区      1285.33\n坪山区       910.60\n盐田区       760.49\n大鹏新区      370.35\n深汕合作区      70.91\ndtype: float64"
     },
     "execution_count": 19,
     "metadata": {},
     "output_type": "execute_result"
    }
   ],
   "source": [
    "def to_series(strData: str) -> pd.Series:\n",
    "    index = []\n",
    "    values = []\n",
    "\n",
    "    for item in strData.split('\\n'):\n",
    "        tokens = item.split(delimiter)\n",
    "        index.append(tokens[0])\n",
    "        values.append(tokens[1])\n",
    "\n",
    "    return pd.Series(values, index=index, dtype='float')\n",
    "\n",
    "to_series(rawData)"
   ],
   "metadata": {
    "collapsed": false,
    "pycharm": {
     "name": "#%%\n"
    }
   }
  },
  {
   "cell_type": "code",
   "execution_count": 20,
   "outputs": [
    {
     "data": {
      "text/plain": "南山区      7630.59\n福田区      5318.19\n龙岗区      4496.45\n宝安区      4421.83\n龙华区      2828.45\n罗湖区      2571.67\n光明区      1285.33\n坪山区       910.60\n盐田区       760.49\n大鹏新区      370.35\n深汕合作区      70.91\ndtype: float64"
     },
     "execution_count": 20,
     "metadata": {},
     "output_type": "execute_result"
    }
   ],
   "source": [
    "series = to_series(rawData)\n",
    "series"
   ],
   "metadata": {
    "collapsed": false,
    "pycharm": {
     "name": "#%%\n"
    }
   }
  },
  {
   "cell_type": "code",
   "execution_count": 22,
   "outputs": [
    {
     "data": {
      "text/plain": "30664.86"
     },
     "execution_count": 22,
     "metadata": {},
     "output_type": "execute_result"
    }
   ],
   "source": [
    "total = sum(series)\n",
    "total"
   ],
   "metadata": {
    "collapsed": false,
    "pycharm": {
     "name": "#%%\n"
    }
   }
  },
  {
   "cell_type": "code",
   "execution_count": 26,
   "outputs": [
    {
     "data": {
      "text/plain": "南山区      15\n福田区      10\n龙岗区       9\n宝安区       9\n龙华区       6\n罗湖区       5\n光明区       3\n坪山区       2\n盐田区       1\n大鹏新区      1\n深汕合作区     0\ndtype: int32"
     },
     "execution_count": 26,
     "metadata": {},
     "output_type": "execute_result"
    }
   ],
   "source": [
    "round(series / total * rowNum * columnNum).astype(int)"
   ],
   "metadata": {
    "collapsed": false,
    "pycharm": {
     "name": "#%%\n"
    }
   }
  },
  {
   "cell_type": "code",
   "execution_count": null,
   "outputs": [],
   "source": [
    "mat = np.zeros((rowNum, columnNum))"
   ],
   "metadata": {
    "collapsed": false,
    "pycharm": {
     "name": "#%%\n"
    }
   }
  },
  {
   "cell_type": "code",
   "execution_count": 28,
   "outputs": [
    {
     "data": {
      "text/plain": "<matplotlib.image.AxesImage at 0x2651f209f48>"
     },
     "execution_count": 28,
     "metadata": {},
     "output_type": "execute_result"
    },
    {
     "data": {
      "text/plain": "<Figure size 1536x640 with 1 Axes>",
      "image/png": "[encoded data removed]"
     },
     "metadata": {},
     "output_type": "display_data"
    }
   ],
   "source": [
    "fig, ax = plt.subplots(figsize=(width, height), dpi=dpi)\n",
    "ax.matshow([\n",
    "    [1, 1, 0],\n",
    "    [1, 2, 0]\n",
    "])"
   ],
   "metadata": {
    "collapsed": false,
    "pycharm": {
     "name": "#%%\n"
    }
   }
  },
  {
   "cell_type": "code",
   "execution_count": 16,
   "outputs": [
    {
     "ename": "TypeError",
     "evalue": "object of type 'AxesSubplot' has no len()",
     "output_type": "error",
     "traceback": [
      "\u001B[1;31m---------------------------------------------------------------------------\u001B[0m",
      "\u001B[1;31mTypeError\u001B[0m                                 Traceback (most recent call last)",
      "\u001B[1;32m~\\AppData\\Local\\Temp\\ipykernel_6656\\3552467257.py\u001B[0m in \u001B[0;36m<module>\u001B[1;34m\u001B[0m\n\u001B[1;32m----> 1\u001B[1;33m \u001B[0mlen\u001B[0m\u001B[1;33m(\u001B[0m\u001B[0max\u001B[0m\u001B[1;33m)\u001B[0m\u001B[1;33m\u001B[0m\u001B[1;33m\u001B[0m\u001B[0m\n\u001B[0m",
      "\u001B[1;31mTypeError\u001B[0m: object of type 'AxesSubplot' has no len()"
     ]
    }
   ],
   "source": [
    "ax.matshow()"
   ],
   "metadata": {
    "collapsed": false,
    "pycharm": {
     "name": "#%%\n"
    }
   }
  },
  {
   "cell_type": "code",
   "execution_count": null,
   "outputs": [],
   "source": [],
   "metadata": {
    "collapsed": false,
    "pycharm": {
     "name": "#%%\n"
    }
   }
  }
 ],
 "metadata": {
  "kernelspec": {
   "display_name": "Python 3",
   "language": "python",
   "name": "python3"
  },
  "language_info": {
   "codemirror_mode": {
    "name": "ipython",
    "version": 2
   },
   "file_extension": ".py",
   "mimetype": "text/x-python",
   "name": "python",
   "nbconvert_exporter": "python",
   "pygments_lexer": "ipython2",
   "version": "2.7.6"
  }
 },
 "nbformat": 4,
 "nbformat_minor": 0
}